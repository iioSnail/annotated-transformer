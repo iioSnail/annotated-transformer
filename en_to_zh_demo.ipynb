{
  "cells": [
    {
      "cell_type": "markdown",
      "metadata": {
        "collapsed": true,
        "pycharm": {
          "name": "#%% md\n"
        },
        "id": "rOegvhvQTFgk"
      },
      "source": [
        "# Pytorch入门实战（5）：基于nn.Transformer实现机器翻译（英译汉）"
      ]
    },
    {
      "cell_type": "markdown",
      "source": [
        "[![Open In Colab](https://colab.research.google.com/assets/colab-badge.svg)](https://colab.research.google.com/iioSnail/chaotic-transformer-tutorials/en_to_zh_demo.ipynb)\n"
      ],
      "metadata": {
        "collapsed": false,
        "pycharm": {
          "name": "#%% md\n"
        },
        "id": "9WJQQ1lfTFgo"
      }
    },
    {
      "cell_type": "markdown",
      "source": [
        "# 本文涉及知识点\n",
        "\n",
        "1. [nn.Transformer的使用](https://blog.csdn.net/zhaohongfei_358/article/details/126019181)\n",
        "2. [Transformer源码解读](https://blog.csdn.net/zhaohongfei_358/article/details/126085246) (了解即可)\n",
        "3. [Pytorch中DataLoader和Dataset的基本用法](https://blog.csdn.net/zhaohongfei_358/article/details/122742656)\n",
        "4. [subword基本概念](https://blog.csdn.net/zhaohongfei_358/article/details/123379481)\n",
        "5. [Masked-Attention的机制和原理](https://blog.csdn.net/zhaohongfei_358/article/details/125858248)\n",
        "6. [Pytorch自定义损失函数](https://blog.csdn.net/zhaohongfei_358/article/details/125759911)\n",
        "7. [Pytorch使用TensorBoard](https://blog.csdn.net/zhaohongfei_358/article/details/125576863)"
      ],
      "metadata": {
        "collapsed": false,
        "pycharm": {
          "name": "#%% md\n"
        },
        "id": "M9TJYUBaTFgo"
      }
    },
    {
      "cell_type": "markdown",
      "source": [
        "# 本文内容\n",
        "\n",
        "本文将使用Pytorch提供的nn.Transformer实现英文到中文的机器翻译任务。对nn.Transformer的讲解，可以参考我的另一篇博文[Pytorch中 nn.Transformer的使用详解与Transformer的黑盒讲解](https://blog.csdn.net/zhaohongfei_358/article/details/126019181)，建议先学习该文的CopyTask任务，然后再来看该篇就容易多了。"
      ],
      "metadata": {
        "collapsed": false,
        "pycharm": {
          "name": "#%% md\n"
        },
        "id": "ZeQwVcN8TFgp"
      }
    },
    {
      "cell_type": "markdown",
      "source": [
        "# 环境配置\n",
        "\n",
        "本文主要使用到的环境如下：\n",
        "\n",
        "```\n",
        "torch==1.11.0\n",
        "tokenizers==0.12.1\n",
        "torchtext==0.12.0\n",
        "tensorboard==2.8.0\n",
        "```"
      ],
      "metadata": {
        "collapsed": false,
        "pycharm": {
          "name": "#%% md\n"
        },
        "id": "iH_36pu7TFgq"
      }
    },
    {
      "cell_type": "code",
      "execution_count": null,
      "outputs": [],
      "source": [
        "!pip install tokenizers==0.12.1\n",
        "!pip install torchtext==0.12.0\n",
        "!pip install tensorboard==2.8.0"
      ],
      "metadata": {
        "pycharm": {
          "name": "#%%\n"
        },
        "id": "lmO5wWenTFgq"
      }
    },
    {
      "cell_type": "markdown",
      "source": [
        "首先我们需要导入本文需要用到的包："
      ],
      "metadata": {
        "collapsed": false,
        "pycharm": {
          "name": "#%% md\n"
        },
        "id": "lMrV7uOJTFgr"
      }
    },
    {
      "cell_type": "code",
      "execution_count": null,
      "outputs": [],
      "source": [
        "import os\n",
        "import math\n",
        "\n",
        "import torch\n",
        "import torch.nn as nn\n",
        "# hugging face的分词器，github地址：https://github.com/huggingface/tokenizers\n",
        "from tokenizers import Tokenizer\n",
        "# 用于构建词典\n",
        "from torchtext.vocab import build_vocab_from_iterator\n",
        "from torch.utils.data import Dataset\n",
        "from torch.utils.data import DataLoader\n",
        "from torch.utils.tensorboard import SummaryWriter\n",
        "from torch.nn.functional import pad, log_softmax\n",
        "from pathlib import Path\n",
        "from tqdm import tqdm"
      ],
      "metadata": {
        "pycharm": {
          "name": "#%%\n"
        },
        "id": "U7NpAWwGTFgr"
      }
    },
    {
      "cell_type": "markdown",
      "source": [
        "定义一些全局配置，例如工作目录，训练时的batch_size，epoch等。"
      ],
      "metadata": {
        "collapsed": false,
        "pycharm": {
          "name": "#%% md\n"
        },
        "id": "9OrkYFEnTFgs"
      }
    },
    {
      "cell_type": "code",
      "execution_count": null,
      "outputs": [
        {
          "name": "stdout",
          "output_type": "stream",
          "text": [
            "句子数量为： 25\n",
            "句子最大长度为： 72\n",
            "batch_size: 128\n",
            "每5000步保存一次模型\n",
            "Device: cpu\n"
          ]
        }
      ],
      "source": [
        "# 工作目录，缓存文件盒模型会放在该目录下\n",
        "work_dir = Path(\"./dataset\")\n",
        "\n",
        "# 如果工作目录不存在，则创建一个\n",
        "if not os.path.exists(work_dir):\n",
        "    os.makedirs(work_dir)\n",
        "\n",
        "# 英文句子的文件路径\n",
        "en_filepath = './dataset/train.en'\n",
        "# 中文句子的文件路径\n",
        "zh_filepath = './dataset/train.zh'\n",
        "\n",
        "\n",
        "# 定义一个获取文件行数的方法。\n",
        "def get_row_count(filepath):\n",
        "    count = 0\n",
        "    for _ in open(filepath, encoding='utf-8'):\n",
        "        count += 1\n",
        "    return count\n",
        "\n",
        "\n",
        "# 英文句子数量\n",
        "en_row_count = get_row_count(en_filepath)\n",
        "# 中文句子数量\n",
        "zh_row_count = get_row_count(zh_filepath)\n",
        "assert en_row_count == zh_row_count, \"英文和中文文件行数不一致！\"\n",
        "# 句子数量，主要用于后面显示进度。\n",
        "row_count = en_row_count\n",
        "\n",
        "# 定义句子最大长度，如果句子不够这个长度，则填充，若超出该长度，则裁剪\n",
        "max_length = 72\n",
        "print(\"句子数量为：\", en_row_count)\n",
        "print(\"句子最大长度为：\", max_length)\n",
        "\n",
        "# 定义英文和中文词典，都为Vocab类对象，后面会对其初始化\n",
        "en_vocab = None\n",
        "zh_vocab = None\n",
        "\n",
        "# 定义batch_size，由于是训练文本，占用内存较小，可以适当大一些\n",
        "batch_size = 128\n",
        "# epochs数量，不用太大，因为句子数量较多\n",
        "epochs = 10\n",
        "# 多少步保存一次模型，防止程序崩溃导致模型丢失。\n",
        "save_after_step = 5000\n",
        "\n",
        "# 是否使用缓存，由于文件较大，初始化动作较慢，所以将初始化好的文件持久化\n",
        "use_cache = True\n",
        "\n",
        "# 定义训练设备\n",
        "device = torch.device('cuda' if torch.cuda.is_available() else 'cpu')\n",
        "\n",
        "print(\"batch_size:\", batch_size)\n",
        "print(\"每{}步保存一次模型\".format(save_after_step))\n",
        "print(\"Device:\", device)"
      ],
      "metadata": {
        "pycharm": {
          "name": "#%%\n"
        },
        "id": "uICo1CSWTFgt",
        "outputId": "80b31171-bbe1-40e3-a980-b5f7c5bbecd3"
      }
    },
    {
      "cell_type": "markdown",
      "source": [
        "# 数据预处理\n",
        "\n",
        "本章进行数据处理，主要过程有：\n",
        "\n",
        "1. 下载数据集。数据集包括两个文件，train.en和train.zh。这两个都是文本文件，里面存放了英文和中文的句子。\n",
        "2. 构造英文词典和中文词典，其中英文采用subword方式，中文直接按字进行分词。\n",
        "3. 构造Dataset和Dataloader，在其中对文本进行文本转数字(index)和值填充。"
      ],
      "metadata": {
        "collapsed": false,
        "pycharm": {
          "name": "#%% md\n"
        },
        "id": "B9AmXHrnTFgu"
      }
    },
    {
      "cell_type": "markdown",
      "source": [
        "## 数据集"
      ],
      "metadata": {
        "collapsed": false,
        "pycharm": {
          "name": "#%% md\n"
        },
        "id": "vcqHRWuBTFgu"
      }
    },
    {
      "cell_type": "markdown",
      "source": [
        "本文使用的是AI Challenger Translation 2017数据集。这里我简单进行了整理，只使用了其中的train.en和train.zh文件（简单起见，本文就不使用验证集了），同时我也将初始化的缓存文件放在了其中，直接解压即可。\n",
        "\n",
        "百度网盘链接：`链接：https://pan.baidu.com/s/1i9Ykz3YVdmKzQ0oKecdvaQ?pwd=4usf 提取码：4usf`\n",
        "\n",
        "如果你不想使用我缓存好的文件，可以将`*.pt`文件删除，或设置`use_cache=False`"
      ],
      "metadata": {
        "collapsed": false,
        "pycharm": {
          "name": "#%% md\n"
        },
        "id": "GFCtHVSxTFgu"
      }
    },
    {
      "cell_type": "code",
      "execution_count": null,
      "outputs": [],
      "source": [
        "!gdown --id '1y01s1861vbuF-GM1LqSvEojKM6qcBXHV' --output en_to_zh.zip\n",
        "!unzip en_to_zh.zip > /dev/null"
      ],
      "metadata": {
        "pycharm": {
          "name": "#%%\n"
        },
        "id": "uaQ-G07mTFgv"
      }
    },
    {
      "cell_type": "markdown",
      "source": [
        "## 文本分词与构造词典\n",
        "\n",
        "本文针对英文分词使用了subword的方式（[subword相关概念](https://blog.csdn.net/zhaohongfei_358/article/details/123379481)）。分词器使用的是hugging face的bert模型，该分词器使用简单，不需要刻意学习，直接看本文就能看懂。"
      ],
      "metadata": {
        "collapsed": false,
        "pycharm": {
          "name": "#%% md\n"
        },
        "id": "KhgjK_xrTFgv"
      }
    },
    {
      "cell_type": "markdown",
      "source": [
        "接下来来构造英文词典："
      ],
      "metadata": {
        "collapsed": false,
        "pycharm": {
          "name": "#%% md\n"
        },
        "id": "PcrNX5ZiTFgv"
      }
    },
    {
      "cell_type": "code",
      "execution_count": null,
      "outputs": [],
      "source": [
        "# 加载基础的分词器模型，使用的是基础的bert模型。`uncased`意思是不区分大小写\n",
        "tokenizer = Tokenizer.from_pretrained(\"bert-base-uncased\")\n",
        "\n",
        "\n",
        "def en_tokenizer(line):\n",
        "    \"\"\"\n",
        "    定义英文分词器，后续也要使用\n",
        "    :param line: 一句英文句子，例如\"I'm learning Deep learning.\"\n",
        "    :return: subword分词后的记过，例如：['i', \"'\", 'm', 'learning', 'deep', 'learning', '.']\n",
        "    \"\"\"\n",
        "    # 使用bert进行分词，并获取tokens。add_special_tokens是指不要在结果中增加‘<bos>’和`<eos>`等特殊字符\n",
        "    return tokenizer.encode(line, add_special_tokens=False).tokens"
      ],
      "metadata": {
        "pycharm": {
          "name": "#%%\n"
        },
        "id": "G6C1uJydTFgv"
      }
    },
    {
      "cell_type": "markdown",
      "source": [
        "我们来测试一下英文分词器："
      ],
      "metadata": {
        "collapsed": false,
        "pycharm": {
          "name": "#%% md\n"
        },
        "id": "NtqmOO4jTFgw"
      }
    },
    {
      "cell_type": "code",
      "execution_count": null,
      "outputs": [
        {
          "name": "stdout",
          "output_type": "stream",
          "text": [
            "['i', \"'\", 'm', 'a', 'english', 'token', '##izer', '.']\n"
          ]
        }
      ],
      "source": [
        "print(en_tokenizer(\"I'm a English tokenizer.\"))"
      ],
      "metadata": {
        "pycharm": {
          "name": "#%%\n"
        },
        "id": "sEEdgrktTFgw",
        "outputId": "bb66bd37-a3c6-4fce-b301-cff2d080c3bc"
      }
    },
    {
      "cell_type": "markdown",
      "source": [
        "> 上面的分词结果中，tokenizer被拆成了两个subword：`token`和`##izer`。其中`##`表示这个词前面需要词与其连接。"
      ],
      "metadata": {
        "collapsed": false,
        "pycharm": {
          "name": "#%% md\n"
        },
        "id": "iFniTGrwTFgw"
      }
    },
    {
      "cell_type": "markdown",
      "source": [
        "接下来开始正式开始构造词典，我们先定义一个yield函数，来产生一个可迭代的分词结果："
      ],
      "metadata": {
        "collapsed": false,
        "pycharm": {
          "name": "#%% md\n"
        },
        "id": "srjx_d_JTFgw"
      }
    },
    {
      "cell_type": "code",
      "execution_count": null,
      "outputs": [],
      "source": [
        "def yield_en_tokens():\n",
        "    \"\"\"\n",
        "    每次yield一个分词后的英文句子，之所以yield方式是为了节省内存。\n",
        "    如果先分好词再构造词典，那么将会有大量文本驻留内存，造成内存溢出。\n",
        "    \"\"\"\n",
        "    file = open(en_filepath, encoding='utf-8')\n",
        "    print(\"-------开始构建英文词典-----------\")\n",
        "    for line in tqdm(file, desc=\"构建英文词典\", total=row_count):\n",
        "        yield en_tokenizer(line)\n",
        "    file.close()"
      ],
      "metadata": {
        "pycharm": {
          "name": "#%%\n"
        },
        "id": "DhJjG30MTFgx"
      }
    },
    {
      "cell_type": "code",
      "execution_count": null,
      "outputs": [
        {
          "name": "stdout",
          "output_type": "stream",
          "text": [
            "-------开始构建英文词典-----------\n"
          ]
        },
        {
          "name": "stderr",
          "output_type": "stream",
          "text": [
            "构建英文词典: 100%|██████████| 25/25 [00:00<00:00, 4903.32it/s]\n"
          ]
        }
      ],
      "source": [
        "# 指定英文词典缓存文件路径\n",
        "en_vocab_file = work_dir / \"vocab_en.pt\"\n",
        "# 如果使用缓存，且缓存文件存在，则加载缓存文件\n",
        "if use_cache and os.path.exists(en_vocab_file):\n",
        "    en_vocab = torch.load(en_vocab_file)\n",
        "# 否则就从0开始构造词典\n",
        "else:\n",
        "    # 构造词典\n",
        "    en_vocab = build_vocab_from_iterator(\n",
        "        # 传入一个可迭代的token列表。例如[['i', 'am', ...], ['machine', 'learning', ...], ...]\n",
        "        yield_en_tokens(),\n",
        "        # 最小频率为2，即一个单词最少出现两次才会被收录到词典\n",
        "        min_freq=2,\n",
        "        # 在词典的最开始加上这些特殊token\n",
        "        specials=[\"<bos>\", \"<eos>\", \"<pad>\", \"<unk>\"],\n",
        "    )\n",
        "    # 设置词典的默认index，后面文本转index时，如果找不到，就会用该index填充\n",
        "    en_vocab.set_default_index(en_vocab[\"<unk>\"])\n",
        "    # 保存缓存文件\n",
        "    if use_cache:\n",
        "        torch.save(en_vocab, en_vocab_file)"
      ],
      "metadata": {
        "pycharm": {
          "name": "#%%\n"
        },
        "id": "x8YHiotFTFgx",
        "outputId": "05d4ea03-9ffa-400c-81af-722f65956187"
      }
    },
    {
      "cell_type": "code",
      "execution_count": null,
      "outputs": [
        {
          "name": "stdout",
          "output_type": "stream",
          "text": [
            "英文词典大小: 40\n",
            "{0: '<bos>', 1: '<eos>', 2: '<pad>', 3: '<unk>', 4: '.', 5: 'of', 6: 'a', 7: ',', 8: '##s', 9: 'couple'}\n"
          ]
        }
      ],
      "source": [
        "# 打印一下看一下效果\n",
        "print(\"英文词典大小:\", len(en_vocab))\n",
        "print(dict((i, en_vocab.lookup_token(i)) for i in range(10)))"
      ],
      "metadata": {
        "pycharm": {
          "name": "#%%\n"
        },
        "id": "3yiFaEupTFgx",
        "outputId": "6d891cbf-c578-442d-fc9f-56a2bd733c18"
      }
    },
    {
      "cell_type": "markdown",
      "source": [
        "---\n",
        "\n",
        "接着我们来构建中文词典，中文词比较多，容易产生OOV问题。一个简单的方式就是不分词，直接将每个字作为一个token，这么做对于中文来说是合理的，因为中文将一个词拆成字大多也能具备其含义，例如：`单词`一词，即使拆成`单`和`词`也能有原本的意思（单个词）。\n",
        "\n",
        "构造中文词典和英文的类似："
      ],
      "metadata": {
        "collapsed": false,
        "pycharm": {
          "name": "#%% md\n"
        },
        "id": "Taw7Fk2nTFgx"
      }
    },
    {
      "cell_type": "code",
      "execution_count": null,
      "outputs": [],
      "source": [
        "def zh_tokenizer(line):\n",
        "    \"\"\"\n",
        "    定义中文分词器\n",
        "    :param line: 中文句子，例如：机器学习\n",
        "    :return: 分词结果，例如['机','器','学','习']\n",
        "    \"\"\"\n",
        "    return list(line.strip().replace(\" \", \"\"))\n",
        "\n",
        "\n",
        "def yield_zh_tokens():\n",
        "    file = open(zh_filepath, encoding='utf-8')\n",
        "    for line in tqdm(file, desc=\"构建中文词典\", total=row_count):\n",
        "        yield zh_tokenizer(line)\n",
        "    file.close()"
      ],
      "metadata": {
        "pycharm": {
          "name": "#%%\n"
        },
        "id": "4Vg28DfvTFgy"
      }
    },
    {
      "cell_type": "code",
      "execution_count": null,
      "outputs": [],
      "source": [
        "zh_vocab_file = work_dir / \"vocab_zh.pt\"\n",
        "if use_cache and os.path.exists(zh_vocab_file):\n",
        "    zh_vocab = torch.load(zh_vocab_file)\n",
        "else:\n",
        "    zh_vocab = build_vocab_from_iterator(\n",
        "        yield_zh_tokens(),\n",
        "        min_freq=1,\n",
        "        specials=[\"<bos>\", \"<eos>\", \"<pad>\", \"<unk>\"],\n",
        "    )\n",
        "    zh_vocab.set_default_index(zh_vocab[\"<unk>\"])\n",
        "    torch.save(zh_vocab, zh_vocab_file)"
      ],
      "metadata": {
        "pycharm": {
          "name": "#%%\n"
        },
        "id": "zBCkMn3TTFgy"
      }
    },
    {
      "cell_type": "code",
      "execution_count": null,
      "outputs": [
        {
          "name": "stdout",
          "output_type": "stream",
          "text": [
            "中文词典大小: 168\n",
            "{0: '<s>', 1: '</s>', 2: '<pad>', 3: '<unk>', 4: '一', 5: '对', 6: '。', 7: '的', 8: '，', 9: '？'}\n"
          ]
        }
      ],
      "source": [
        "# 打印看一下效果\n",
        "print(\"中文词典大小:\", len(zh_vocab))\n",
        "print(dict((i, zh_vocab.lookup_token(i)) for i in range(10)))"
      ],
      "metadata": {
        "pycharm": {
          "name": "#%%\n"
        },
        "id": "qynn-MKMTFgy",
        "outputId": "b3220e6e-8534-4075-a079-44a9c4063e8d"
      }
    },
    {
      "cell_type": "markdown",
      "source": [
        "## Dataset and Dataloader"
      ],
      "metadata": {
        "collapsed": false,
        "pycharm": {
          "name": "#%% md\n"
        },
        "id": "wCRMjjsVTFgy"
      }
    },
    {
      "cell_type": "markdown",
      "source": [
        "构造词典就可以来定义Dataset了。Dataset每次返回一个句子对儿，例如: `([6, 8, 93, 12, ..], [62, 891, ...])`，第一个是英文句子，第二个是中文句子。"
      ],
      "metadata": {
        "collapsed": false,
        "pycharm": {
          "name": "#%% md\n"
        },
        "id": "5TOurzQSTFgy"
      }
    },
    {
      "cell_type": "code",
      "execution_count": null,
      "outputs": [],
      "source": [
        "class TranslationDataset(Dataset):\n",
        "\n",
        "    def __init__(self):\n",
        "        # 加载英文tokens\n",
        "        self.en_tokens = self.load_tokens(en_filepath, en_tokenizer, en_vocab, \"构建英文tokens\", 'en')\n",
        "        # 加载中文tokens\n",
        "        self.zh_tokens = self.load_tokens(zh_filepath, zh_tokenizer, zh_vocab, \"构建中文tokens\", 'zh')\n",
        "\n",
        "    def __getitem__(self, index):\n",
        "        return self.en_tokens[index], self.zh_tokens[index]\n",
        "\n",
        "    def __len__(self):\n",
        "        return row_count\n",
        "\n",
        "    def load_tokens(self, file, tokenizer, vocab, desc, lang):\n",
        "        \"\"\"\n",
        "        加载tokens，即将文本句子们转换成index们。\n",
        "        :param file: 文件路径，例如\"./dataset/train.en\"\n",
        "        :param tokenizer: 分词器，例如en_tokenizer函数\n",
        "        :param vocab: 词典, Vocab类对象。例如 en_vocab\n",
        "        :param desc: 用于进度显示的描述，例如：构建英文tokens\n",
        "        :param lang: 语言。用于构造缓存文件时进行区分。例如：’en‘\n",
        "        :return: 返回构造好的tokens。例如：[[6, 8, 93, 12, ..], [62, 891, ...], ...]\n",
        "        \"\"\"\n",
        "\n",
        "        # 定义缓存文件存储路径\n",
        "        cache_file = work_dir / \"tokens_list.{}.pt\".format(lang)\n",
        "        # 如果使用缓存，且缓存文件存在，则直接加载\n",
        "        if use_cache and os.path.exists(cache_file):\n",
        "            return torch.load(cache_file)\n",
        "\n",
        "        # 从0开始构建，定义tokens_list用于存储结果\n",
        "        tokens_list = []\n",
        "        # 打开文件\n",
        "        with open(file, encoding='utf-8') as file:\n",
        "            # 逐行读取\n",
        "            for line in tqdm(file, desc=desc, total=row_count):\n",
        "                # 进行分词\n",
        "                tokens = tokenizer(line)\n",
        "                # 将文本分词结果通过词典转成index\n",
        "                tokens = vocab(tokens)\n",
        "                # append到结果中\n",
        "                tokens_list.append(tokens)\n",
        "        # 保存缓存文件\n",
        "        if use_cache:\n",
        "            torch.save(tokens_list, cache_file)\n",
        "\n",
        "        return tokens_list"
      ],
      "metadata": {
        "pycharm": {
          "name": "#%%\n"
        },
        "id": "tPaAWnLeTFgy"
      }
    },
    {
      "cell_type": "code",
      "execution_count": null,
      "outputs": [
        {
          "name": "stderr",
          "output_type": "stream",
          "text": [
            "构建英文tokens: 100%|██████████| 25/25 [00:00<00:00, 3570.35it/s]\n",
            "构建中文tokens: 100%|██████████| 25/25 [00:00<?, ?it/s]\n"
          ]
        }
      ],
      "source": [
        "dataset = TranslationDataset()"
      ],
      "metadata": {
        "pycharm": {
          "name": "#%%\n"
        },
        "id": "g6l4_JoiTFgz",
        "outputId": "1b56d37b-81fb-45d2-a55b-ca635a6c8275"
      }
    },
    {
      "cell_type": "markdown",
      "source": [
        "定义好dataset后，我们来简单的看一下："
      ],
      "metadata": {
        "collapsed": false,
        "pycharm": {
          "name": "#%% md\n"
        },
        "id": "FkcHJ7SlTFgz"
      }
    },
    {
      "cell_type": "code",
      "execution_count": null,
      "outputs": [
        {
          "name": "stdout",
          "output_type": "stream",
          "text": [
            "([6, 12, 5, 3, 18, 3, 3, 3, 3, 26, 3, 38, 3, 3], [4, 5, 54, 51, 166, 122, 140, 152, 45, 38, 11, 7, 142, 39, 163, 86])\n"
          ]
        }
      ],
      "source": [
        "print(dataset.__getitem__(0))"
      ],
      "metadata": {
        "pycharm": {
          "name": "#%%\n"
        },
        "id": "6IIsGKujTFgz",
        "outputId": "e5e8f076-5c53-49be-eb48-0d177fc74c53"
      }
    },
    {
      "cell_type": "markdown",
      "source": [
        "> Dataset中并不包含`<bos>`和`<eos>`，这个动作和填充是在dataloader中完成的。"
      ],
      "metadata": {
        "collapsed": false,
        "pycharm": {
          "name": "#%% md\n"
        },
        "id": "4EW2h9y6TFgz"
      }
    },
    {
      "cell_type": "markdown",
      "source": [
        "接下来开始定义Dataloader。\n",
        "\n",
        "在定义Dataloader之前，我们需要先定义好collate_fn，因为我们dataset返回的字段并不能很好的组成batch，并且需要进一步处理，这些操作的都是在collate_fn中完成。"
      ],
      "metadata": {
        "collapsed": false,
        "pycharm": {
          "name": "#%% md\n"
        },
        "id": "Gngz-nWgTFgz"
      }
    },
    {
      "cell_type": "code",
      "execution_count": null,
      "outputs": [],
      "source": [
        "def collate_fn(batch):\n",
        "    \"\"\"\n",
        "    将dataset的数据进一步处理，并组成一个batch。\n",
        "    :param batch: 一个batch的数据，例如：\n",
        "                  [([6, 8, 93, 12, ..], [62, 891, ...]),\n",
        "                  ....\n",
        "                  ...]\n",
        "    :return: 填充后的且等长的数据，包括src, tgt, tgt_y, n_tokens\n",
        "             其中src为原句子，即要被翻译的句子\n",
        "             tgt为目标句子：翻译后的句子，但不包含最后一个token\n",
        "             tgt_y为label：翻译后的句子，但不包含第一个token，即<bos>\n",
        "             n_tokens：tgt_y中的token数，<pad>不计算在内。\n",
        "    \"\"\"\n",
        "\n",
        "    # 定义'<bos>'的index，在词典中为0，所以这里也是0\n",
        "    bs_id = torch.tensor([0])\n",
        "    # 定义'<eos>'的index\n",
        "    eos_id = torch.tensor([1])\n",
        "    # 定义<pad>的index\n",
        "    pad_id = 2\n",
        "\n",
        "    # 用于存储处理后的src和tgt\n",
        "    src_list, tgt_list = [], []\n",
        "\n",
        "    # 循环遍历句子对儿\n",
        "    for (_src, _tgt) in batch:\n",
        "        \"\"\"\n",
        "        _src: 英语句子，例如：`I love you`对应的index\n",
        "        _tgt: 中文句子，例如：`我 爱 你`对应的index\n",
        "        \"\"\"\n",
        "\n",
        "        processed_src = torch.cat(\n",
        "            # 将<bos>，句子index和<eos>拼到一块\n",
        "            [\n",
        "                bs_id,\n",
        "                torch.tensor(\n",
        "                    _src,\n",
        "                    dtype=torch.int64,\n",
        "                ),\n",
        "                eos_id,\n",
        "            ],\n",
        "            0,\n",
        "        )\n",
        "        processed_tgt = torch.cat(\n",
        "            [\n",
        "                bs_id,\n",
        "                torch.tensor(\n",
        "                    _tgt,\n",
        "                    dtype=torch.int64,\n",
        "                ),\n",
        "                eos_id,\n",
        "            ],\n",
        "            0,\n",
        "        )\n",
        "\n",
        "        \"\"\"\n",
        "        将长度不足的句子进行填充到max_padding的长度的，然后增添到list中\n",
        "\n",
        "        pad：假设processed_src为[0, 1136, 2468, 1349, 1]\n",
        "             第二个参数为: (0, 72-5)\n",
        "             第三个参数为：2\n",
        "        则pad的意思表示，给processed_src左边填充0个2，右边填充67个2。\n",
        "        最终结果为：[0, 1136, 2468, 1349, 1, 2, 2, 2, ..., 2]\n",
        "        \"\"\"\n",
        "        src_list.append(\n",
        "            pad(\n",
        "                processed_src,\n",
        "                (0, max_length - len(processed_src),),\n",
        "                value=pad_id,\n",
        "            )\n",
        "        )\n",
        "        tgt_list.append(\n",
        "            pad(\n",
        "                processed_tgt,\n",
        "                (0, max_length - len(processed_tgt),),\n",
        "                value=pad_id,\n",
        "            )\n",
        "        )\n",
        "\n",
        "    # 将多个src句子堆叠到一起\n",
        "    src = torch.stack(src_list)\n",
        "    tgt = torch.stack(tgt_list)\n",
        "\n",
        "    # tgt_y是目标句子去掉第一个token，即去掉<bos>\n",
        "    tgt_y = tgt[:, 1:]\n",
        "    # tgt是目标句子去掉最后一个token\n",
        "    tgt = tgt[:, :-1]\n",
        "\n",
        "    # 计算本次batch要预测的token数\n",
        "    n_tokens = (tgt_y != 2).sum()\n",
        "\n",
        "    # 返回batch后的结果\n",
        "    return src, tgt, tgt_y, n_tokens"
      ],
      "metadata": {
        "pycharm": {
          "name": "#%%\n"
        },
        "id": "NwWEL_-dTFg0"
      }
    },
    {
      "cell_type": "markdown",
      "source": [
        "> 关于tgt和tgt_y的处理，可以参考[这篇博客](https://blog.csdn.net/zhaohongfei_358/article/details/126019181)"
      ],
      "metadata": {
        "collapsed": false,
        "pycharm": {
          "name": "#%% md\n"
        },
        "id": "LXdganyvTFg0"
      }
    },
    {
      "cell_type": "markdown",
      "source": [
        "有了collate_fn函数，我们就可以构造dataloader了。"
      ],
      "metadata": {
        "collapsed": false,
        "pycharm": {
          "name": "#%% md\n"
        },
        "id": "0K4qMxGYTFg1"
      }
    },
    {
      "cell_type": "code",
      "execution_count": null,
      "outputs": [],
      "source": [
        "train_loader = DataLoader(dataset, batch_size=batch_size, shuffle=True, collate_fn=collate_fn)"
      ],
      "metadata": {
        "pycharm": {
          "name": "#%%\n"
        },
        "id": "eYfu8LZOTFg1"
      }
    },
    {
      "cell_type": "code",
      "execution_count": null,
      "outputs": [],
      "source": [
        "src, tgt, tgt_y, n_tokens = next(iter(train_loader))"
      ],
      "metadata": {
        "pycharm": {
          "name": "#%%\n"
        },
        "id": "x35UxAStTFg1"
      }
    },
    {
      "cell_type": "code",
      "execution_count": null,
      "outputs": [
        {
          "name": "stdout",
          "output_type": "stream",
          "text": [
            "src.size: torch.Size([25, 72])\n",
            "tgt.size: torch.Size([25, 71])\n",
            "tgt_y.size: torch.Size([25, 71])\n",
            "n_tokens: tensor(353)\n"
          ]
        }
      ],
      "source": [
        "print(\"src.size:\", src.size())\n",
        "print(\"tgt.size:\", tgt.size())\n",
        "print(\"tgt_y.size:\", tgt_y.size())\n",
        "print(\"n_tokens:\", n_tokens)"
      ],
      "metadata": {
        "pycharm": {
          "name": "#%%\n"
        },
        "id": "Zx86Ap8lTFg1",
        "outputId": "c7217724-cfc7-42f7-a538-f67e1b019fdd"
      }
    },
    {
      "cell_type": "markdown",
      "source": [
        "接下来，我们就可以来构建翻译模型了。"
      ],
      "metadata": {
        "collapsed": false,
        "pycharm": {
          "name": "#%% md\n"
        },
        "id": "ExhjcXcGTFg2"
      }
    },
    {
      "cell_type": "markdown",
      "source": [
        "# 模型构建"
      ],
      "metadata": {
        "collapsed": false,
        "pycharm": {
          "name": "#%% md\n"
        },
        "id": "Nk5xb7fRTFg2"
      }
    },
    {
      "cell_type": "markdown",
      "source": [
        "由于`nn.Transformer`并没有Positional Encoding部分的实现，所以我们需要自己实现。这里我们就直接拿别人实现好的过来用："
      ],
      "metadata": {
        "collapsed": false,
        "pycharm": {
          "name": "#%% md\n"
        },
        "id": "JZPK0dUSTFg2"
      }
    },
    {
      "cell_type": "code",
      "execution_count": null,
      "outputs": [],
      "source": [
        "class PositionalEncoding(nn.Module):\n",
        "    \"Implement the PE function.\"\n",
        "\n",
        "    def __init__(self, d_model, dropout, max_len=5000):\n",
        "        super(PositionalEncoding, self).__init__()\n",
        "        self.dropout = nn.Dropout(p=dropout)\n",
        "\n",
        "        # 初始化Shape为(max_len, d_model)的PE (positional encoding)\n",
        "        pe = torch.zeros(max_len, d_model)\n",
        "        # 初始化一个tensor [[0, 1, 2, 3, ...]]\n",
        "        position = torch.arange(0, max_len).unsqueeze(1)\n",
        "        # 这里就是sin和cos括号中的内容，通过e和ln进行了变换\n",
        "        div_term = torch.exp(\n",
        "            torch.arange(0, d_model, 2) * -(math.log(10000.0) / d_model)\n",
        "        )\n",
        "        # 计算PE(pos, 2i)\n",
        "        pe[:, 0::2] = torch.sin(position * div_term)\n",
        "        # 计算PE(pos, 2i+1)\n",
        "        pe[:, 1::2] = torch.cos(position * div_term)\n",
        "        # 为了方便计算，在最外面在unsqueeze出一个batch\n",
        "        pe = pe.unsqueeze(0)\n",
        "        # 如果一个参数不参与梯度下降，但又希望保存model的时候将其保存下来\n",
        "        # 这个时候就可以用register_buffer\n",
        "        self.register_buffer(\"pe\", pe)\n",
        "\n",
        "    def forward(self, x):\n",
        "        \"\"\"\n",
        "        x 为embedding后的inputs，例如(1,7, 128)，batch size为1,7个单词，单词维度为128\n",
        "        \"\"\"\n",
        "        # 将x和positional encoding相加。\n",
        "        x = x + self.pe[:, : x.size(1)].requires_grad_(False)\n",
        "        return self.dropout(x)"
      ],
      "metadata": {
        "pycharm": {
          "name": "#%%\n"
        },
        "id": "K1zNCnxhTFg2"
      }
    },
    {
      "cell_type": "markdown",
      "source": [
        "接下来我们来定义Transformer翻译模型，`nn.Transformer`只实现了Transformer中下图绿色的部分，所以其他部分需要我们自己来实现：\n",
        "\n",
        "<img src=\"https://github.com/iioSnail/chaotic-transformer-tutorials/blob/master/images/transformer_5.png?raw=1\" width=\"300\">"
      ],
      "metadata": {
        "collapsed": false,
        "pycharm": {
          "name": "#%% md\n"
        },
        "id": "qDCaT9CsTFg2"
      }
    },
    {
      "cell_type": "code",
      "execution_count": null,
      "outputs": [],
      "source": [
        "class TranslationModel(nn.Module):\n",
        "\n",
        "    def __init__(self, d_model, src_vocab, tgt_vocab, dropout=0.1):\n",
        "        super(TranslationModel, self).__init__()\n",
        "\n",
        "        # 定义原句子的embedding\n",
        "        self.src_embedding = nn.Embedding(len(src_vocab), d_model, padding_idx=2)\n",
        "        # 定义目标句子的embedding\n",
        "        self.tgt_embedding = nn.Embedding(len(tgt_vocab), d_model, padding_idx=2)\n",
        "        # 定义posintional encoding\n",
        "        self.positional_encoding = PositionalEncoding(d_model, dropout, max_len=max_length)\n",
        "        # 定义Transformer\n",
        "        self.transformer = nn.Transformer(d_model, dropout=dropout, batch_first=True)\n",
        "\n",
        "        # 定义最后的预测层，这里并没有定义Softmax，而是把他放在了模型外。\n",
        "        self.predictor = nn.Linear(d_model, len(tgt_vocab))\n",
        "\n",
        "    def forward(self, src, tgt):\n",
        "        \"\"\"\n",
        "        进行前向传递，输出为Decoder的输出。注意，这里并没有使用self.predictor进行预测，\n",
        "        因为训练和推理行为不太一样，所以放在了模型外面。\n",
        "        :param src: 原batch后的句子，例如[[0, 12, 34, .., 1, 2, 2, ...], ...]\n",
        "        :param tgt: 目标batch后的句子，例如[[0, 74, 56, .., 1, 2, 2, ...], ...]\n",
        "        :return: Transformer的输出，或者说是TransformerDecoder的输出。\n",
        "        \"\"\"\n",
        "\n",
        "        \"\"\"\n",
        "        生成tgt_mask，即阶梯型的mask，例如：\n",
        "        [[0., -inf, -inf, -inf, -inf],\n",
        "        [0., 0., -inf, -inf, -inf],\n",
        "        [0., 0., 0., -inf, -inf],\n",
        "        [0., 0., 0., 0., -inf],\n",
        "        [0., 0., 0., 0., 0.]]\n",
        "        tgt.size()[-1]为目标句子的长度。\n",
        "        \"\"\"\n",
        "        tgt_mask = nn.Transformer.generate_square_subsequent_mask(tgt.size()[-1])\n",
        "        # 掩盖住原句子中<pad>的部分，例如[[0,0,0,...0, -inf,-inf,...], ...]\n",
        "        src_key_padding_mask = TranslationModel.get_key_padding_mask(src)\n",
        "        # 掩盖住目标句子中<pad>的部分\n",
        "        tgt_key_padding_mask = TranslationModel.get_key_padding_mask(tgt)\n",
        "\n",
        "        # 对src和tgt进行编码\n",
        "        src = self.src_embedding(src)\n",
        "        tgt = self.tgt_embedding(tgt)\n",
        "        # 给src和tgt的token增加位置信息\n",
        "        src = self.positional_encoding(src)\n",
        "        tgt = self.positional_encoding(tgt)\n",
        "\n",
        "        # 将准备好的数据送给transformer\n",
        "        out = self.transformer(src, tgt,\n",
        "                               tgt_mask=tgt_mask,\n",
        "                               src_key_padding_mask=src_key_padding_mask,\n",
        "                               tgt_key_padding_mask=tgt_key_padding_mask)\n",
        "\n",
        "        \"\"\"\n",
        "        这里直接返回transformer的结果。因为训练和推理时的行为不一样，\n",
        "        所以在该模型外再进行线性层的预测。\n",
        "        \"\"\"\n",
        "        return out\n",
        "\n",
        "    @staticmethod\n",
        "    def get_key_padding_mask(tokens):\n",
        "        \"\"\"\n",
        "        用于key_padding_mask\n",
        "        \"\"\"\n",
        "        key_padding_mask = torch.zeros(tokens.size())\n",
        "        key_padding_mask[tokens == 2] = -torch.inf\n",
        "        return key_padding_mask\n"
      ],
      "metadata": {
        "pycharm": {
          "name": "#%%\n"
        },
        "id": "8ql5m8rfTFg2"
      }
    },
    {
      "cell_type": "markdown",
      "source": [
        "> 在`nn.Transformer`中，`-inf`表示遮掩，而`0`表示不遮掩。"
      ],
      "metadata": {
        "collapsed": false,
        "pycharm": {
          "name": "#%% md\n"
        },
        "id": "zRP1c_YITFg3"
      }
    },
    {
      "cell_type": "code",
      "execution_count": null,
      "outputs": [],
      "source": [
        "model = TranslationModel(512, en_vocab, zh_vocab)\n",
        "model = model.to(device)"
      ],
      "metadata": {
        "pycharm": {
          "name": "#%%\n"
        },
        "id": "VYAw1HSTTFg3"
      }
    },
    {
      "cell_type": "markdown",
      "source": [
        "尝试调用一下model，验证一下是否能正常运行"
      ],
      "metadata": {
        "collapsed": false,
        "pycharm": {
          "name": "#%% md\n"
        },
        "id": "SAc8VvmMTFg3"
      }
    },
    {
      "cell_type": "code",
      "execution_count": null,
      "outputs": [
        {
          "data": {
            "text/plain": "torch.Size([25, 71, 512])"
          },
          "execution_count": 42,
          "metadata": {},
          "output_type": "execute_result"
        }
      ],
      "source": [
        "model(src, tgt).size()"
      ],
      "metadata": {
        "pycharm": {
          "name": "#%%\n"
        },
        "id": "MdunHIZvTFg3",
        "outputId": "4c64d403-ee7c-4024-b981-85739adb38a8"
      }
    },
    {
      "cell_type": "markdown",
      "source": [
        "模型正常调用，其中71是因为tgt去掉了最后一个token。"
      ],
      "metadata": {
        "collapsed": false,
        "pycharm": {
          "name": "#%% md\n"
        },
        "id": "hQkGmJBwTFg3"
      }
    },
    {
      "cell_type": "markdown",
      "source": [
        "# 模型训练"
      ],
      "metadata": {
        "collapsed": false,
        "pycharm": {
          "name": "#%% md\n"
        },
        "id": "pUyYTT5tTFg3"
      }
    },
    {
      "cell_type": "markdown",
      "source": [
        "简单起见，本次模型训练使用的是Adam优化器，对于学习率就不进行Warmup了。"
      ],
      "metadata": {
        "collapsed": false,
        "pycharm": {
          "name": "#%% md\n"
        },
        "id": "dM97jo-qTFg4"
      }
    },
    {
      "cell_type": "code",
      "execution_count": null,
      "outputs": [],
      "source": [
        "optimizer = torch.optim.Adam(model.parameters(), lr=3e-4)"
      ],
      "metadata": {
        "pycharm": {
          "name": "#%%\n"
        },
        "id": "NwSeApZ5TFg4"
      }
    },
    {
      "cell_type": "markdown",
      "source": [
        ""
      ],
      "metadata": {
        "collapsed": false,
        "pycharm": {
          "name": "#%% md\n"
        },
        "id": "2-dxTHY1TFg4"
      }
    },
    {
      "cell_type": "code",
      "execution_count": null,
      "outputs": [],
      "source": [
        "class TranslationLoss(nn.Module):\n",
        "\n",
        "    def __init__(self):\n",
        "        super(TranslationLoss, self).__init__()\n",
        "        # 使用KLDivLoss，不需要知道里面的具体细节。\n",
        "        self.criterion = nn.KLDivLoss(reduction=\"sum\")\n",
        "        self.padding_idx = 2\n",
        "\n",
        "    def forward(self, x, target):\n",
        "        \"\"\"\n",
        "        损失函数的前向传递\n",
        "        :param x: 将Decoder的输出再经过predictor线性层之后的输出。\n",
        "                  也就是Linear后、Softmax前的状态\n",
        "        :param target: tgt_y。也就是label，例如[[1, 34, 15, ...], ...]\n",
        "        :return: loss\n",
        "        \"\"\"\n",
        "\n",
        "        \"\"\"\n",
        "        由于KLDivLoss的input需要对softmax做log，所以使用log_softmax。\n",
        "        等价于：log(softmax(x))\n",
        "        \"\"\"\n",
        "        x = log_softmax(x, dim=-1)\n",
        "\n",
        "        \"\"\"\n",
        "        构造Label的分布，也就是将[[1, 34, 15, ...]] 转化为:\n",
        "        [[[0, 1, 0, ..., 0],\n",
        "          [0, ..., 1, ..,0],\n",
        "          ...]],\n",
        "        ...]\n",
        "        \"\"\"\n",
        "        # 首先按照x的Shape构造出一个全是0的Tensor\n",
        "        true_dist = torch.zeros(x.size())\n",
        "        # 将对应index的部分填充为1\n",
        "        true_dist.scatter_(1, target.data.unsqueeze(1), 1)\n",
        "        # 找出<pad>部分，对于<pad>标签，全部填充为0，没有1，避免其参与损失计算。\n",
        "        mask = torch.nonzero(target.data == self.padding_idx)\n",
        "        if mask.dim() > 0:\n",
        "            true_dist.index_fill_(0, mask.squeeze(), 0.0)\n",
        "\n",
        "        # 计算损失\n",
        "        return self.criterion(x, true_dist.clone().detach())"
      ],
      "metadata": {
        "pycharm": {
          "name": "#%%\n"
        },
        "id": "WM5umIoQTFg4"
      }
    },
    {
      "cell_type": "code",
      "execution_count": null,
      "outputs": [],
      "source": [
        "criteria = TranslationLoss()"
      ],
      "metadata": {
        "pycharm": {
          "name": "#%%\n"
        },
        "id": "9d2ggCFcTFg4"
      }
    },
    {
      "cell_type": "markdown",
      "source": [
        "完成了损失定义，就可以正式开始训练模型了，训练过程和正常模型训练相差不大，这里我使用tensorboard来记录损失："
      ],
      "metadata": {
        "collapsed": false,
        "pycharm": {
          "name": "#%% md\n"
        },
        "id": "UpMA5qRwTFg4"
      }
    },
    {
      "cell_type": "code",
      "execution_count": null,
      "outputs": [],
      "source": [
        "writer = SummaryWriter(log_dir='runs/transformer_loss')"
      ],
      "metadata": {
        "pycharm": {
          "name": "#%%\n"
        },
        "id": "bWqOEpGfTFg4"
      }
    },
    {
      "cell_type": "code",
      "execution_count": null,
      "outputs": [],
      "source": [
        "%load_ext tensorboard # 加载tensorboard扩展插件\n",
        "%tensorboard --logdir=runs  # 运行tensorboard"
      ],
      "metadata": {
        "pycharm": {
          "name": "#%%\n"
        },
        "id": "T3Vtm7ifTFg4"
      }
    },
    {
      "cell_type": "markdown",
      "source": [
        "你可以在当前目录下运行`tensorboard --logdir runs`命令来启动tensorboard。"
      ],
      "metadata": {
        "collapsed": false,
        "pycharm": {
          "name": "#%% md\n"
        },
        "id": "-Odwwt0jTFg5"
      }
    },
    {
      "cell_type": "code",
      "execution_count": null,
      "outputs": [
        {
          "name": "stderr",
          "output_type": "stream",
          "text": [
            "  0%|          | 0/1 [01:05<?, ?it/s]\n",
            "Epoch 0/10:   0%|          | 0/1 [00:07<?, ?it/s, loss=4.53]\n",
            "Epoch 0/10:   0%|          | 0/1 [00:07<?, ?it/s, loss=4.53]\n",
            "\n",
            "Epoch 1/10:   0%|          | 0/1 [00:08<?, ?it/s]\u001b[A\n",
            "Epoch 1/10:   0%|          | 0/1 [00:08<?, ?it/s, loss=4.53]\u001b[A\n"
          ]
        },
        {
          "ename": "KeyboardInterrupt",
          "evalue": "",
          "output_type": "error",
          "traceback": [
            "\u001b[1;31m---------------------------------------------------------------------------\u001b[0m",
            "\u001b[1;31mKeyboardInterrupt\u001b[0m                         Traceback (most recent call last)",
            "Input \u001b[1;32mIn [51]\u001b[0m, in \u001b[0;36m<cell line: 4>\u001b[1;34m()\u001b[0m\n\u001b[0;32m     25\u001b[0m loss \u001b[38;5;241m=\u001b[39m criteria(out\u001b[38;5;241m.\u001b[39mcontiguous()\u001b[38;5;241m.\u001b[39mview(\u001b[38;5;241m-\u001b[39m\u001b[38;5;241m1\u001b[39m, out\u001b[38;5;241m.\u001b[39msize(\u001b[38;5;241m-\u001b[39m\u001b[38;5;241m1\u001b[39m)), tgt_y\u001b[38;5;241m.\u001b[39mcontiguous()\u001b[38;5;241m.\u001b[39mview(\u001b[38;5;241m-\u001b[39m\u001b[38;5;241m1\u001b[39m)) \u001b[38;5;241m/\u001b[39m n_tokens\n\u001b[0;32m     26\u001b[0m \u001b[38;5;66;03m# 计算梯度\u001b[39;00m\n\u001b[1;32m---> 27\u001b[0m \u001b[43mloss\u001b[49m\u001b[38;5;241;43m.\u001b[39;49m\u001b[43mbackward\u001b[49m\u001b[43m(\u001b[49m\u001b[43m)\u001b[49m\n\u001b[0;32m     28\u001b[0m \u001b[38;5;66;03m# 更新参数\u001b[39;00m\n\u001b[0;32m     29\u001b[0m optimizer\u001b[38;5;241m.\u001b[39mstep()\n",
            "File \u001b[1;32mD:\\Anaconda3\\envs\\transformer\\lib\\site-packages\\torch\\_tensor.py:363\u001b[0m, in \u001b[0;36mTensor.backward\u001b[1;34m(self, gradient, retain_graph, create_graph, inputs)\u001b[0m\n\u001b[0;32m    354\u001b[0m \u001b[38;5;28;01mif\u001b[39;00m has_torch_function_unary(\u001b[38;5;28mself\u001b[39m):\n\u001b[0;32m    355\u001b[0m     \u001b[38;5;28;01mreturn\u001b[39;00m handle_torch_function(\n\u001b[0;32m    356\u001b[0m         Tensor\u001b[38;5;241m.\u001b[39mbackward,\n\u001b[0;32m    357\u001b[0m         (\u001b[38;5;28mself\u001b[39m,),\n\u001b[1;32m   (...)\u001b[0m\n\u001b[0;32m    361\u001b[0m         create_graph\u001b[38;5;241m=\u001b[39mcreate_graph,\n\u001b[0;32m    362\u001b[0m         inputs\u001b[38;5;241m=\u001b[39minputs)\n\u001b[1;32m--> 363\u001b[0m \u001b[43mtorch\u001b[49m\u001b[38;5;241;43m.\u001b[39;49m\u001b[43mautograd\u001b[49m\u001b[38;5;241;43m.\u001b[39;49m\u001b[43mbackward\u001b[49m\u001b[43m(\u001b[49m\u001b[38;5;28;43mself\u001b[39;49m\u001b[43m,\u001b[49m\u001b[43m \u001b[49m\u001b[43mgradient\u001b[49m\u001b[43m,\u001b[49m\u001b[43m \u001b[49m\u001b[43mretain_graph\u001b[49m\u001b[43m,\u001b[49m\u001b[43m \u001b[49m\u001b[43mcreate_graph\u001b[49m\u001b[43m,\u001b[49m\u001b[43m \u001b[49m\u001b[43minputs\u001b[49m\u001b[38;5;241;43m=\u001b[39;49m\u001b[43minputs\u001b[49m\u001b[43m)\u001b[49m\n",
            "File \u001b[1;32mD:\\Anaconda3\\envs\\transformer\\lib\\site-packages\\torch\\autograd\\__init__.py:173\u001b[0m, in \u001b[0;36mbackward\u001b[1;34m(tensors, grad_tensors, retain_graph, create_graph, grad_variables, inputs)\u001b[0m\n\u001b[0;32m    168\u001b[0m     retain_graph \u001b[38;5;241m=\u001b[39m create_graph\n\u001b[0;32m    170\u001b[0m \u001b[38;5;66;03m# The reason we repeat same the comment below is that\u001b[39;00m\n\u001b[0;32m    171\u001b[0m \u001b[38;5;66;03m# some Python versions print out the first line of a multi-line function\u001b[39;00m\n\u001b[0;32m    172\u001b[0m \u001b[38;5;66;03m# calls in the traceback and some print out the last line\u001b[39;00m\n\u001b[1;32m--> 173\u001b[0m \u001b[43mVariable\u001b[49m\u001b[38;5;241;43m.\u001b[39;49m\u001b[43m_execution_engine\u001b[49m\u001b[38;5;241;43m.\u001b[39;49m\u001b[43mrun_backward\u001b[49m\u001b[43m(\u001b[49m\u001b[43m  \u001b[49m\u001b[38;5;66;43;03m# Calls into the C++ engine to run the backward pass\u001b[39;49;00m\n\u001b[0;32m    174\u001b[0m \u001b[43m    \u001b[49m\u001b[43mtensors\u001b[49m\u001b[43m,\u001b[49m\u001b[43m \u001b[49m\u001b[43mgrad_tensors_\u001b[49m\u001b[43m,\u001b[49m\u001b[43m \u001b[49m\u001b[43mretain_graph\u001b[49m\u001b[43m,\u001b[49m\u001b[43m \u001b[49m\u001b[43mcreate_graph\u001b[49m\u001b[43m,\u001b[49m\u001b[43m \u001b[49m\u001b[43minputs\u001b[49m\u001b[43m,\u001b[49m\n\u001b[0;32m    175\u001b[0m \u001b[43m    \u001b[49m\u001b[43mallow_unreachable\u001b[49m\u001b[38;5;241;43m=\u001b[39;49m\u001b[38;5;28;43;01mTrue\u001b[39;49;00m\u001b[43m,\u001b[49m\u001b[43m \u001b[49m\u001b[43maccumulate_grad\u001b[49m\u001b[38;5;241;43m=\u001b[39;49m\u001b[38;5;28;43;01mTrue\u001b[39;49;00m\u001b[43m)\u001b[49m\n",
            "\u001b[1;31mKeyboardInterrupt\u001b[0m: "
          ]
        }
      ],
      "source": [
        "step = 0\n",
        "\n",
        "model.train()\n",
        "for epoch in range(epochs):\n",
        "    loop = tqdm(enumerate(train_loader), total=len(train_loader))\n",
        "    for index, data in enumerate(train_loader):\n",
        "        # 生成数据\n",
        "        src, tgt, tgt_y, n_tokens = data\n",
        "        src, tgt, tgt_y = src.to(device), tgt.to(device), tgt_y.to(device)\n",
        "\n",
        "        # 清空梯度\n",
        "        optimizer.zero_grad()\n",
        "        # 进行transformer的计算\n",
        "        out = model(src, tgt)\n",
        "        # 将结果送给最后的线性层进行预测\n",
        "        out = model.predictor(out)\n",
        "\n",
        "        \"\"\"\n",
        "        计算损失。由于训练时我们的是对所有的输出都进行预测，所以需要对out进行reshape一下。\n",
        "                我们的out的Shape为(batch_size, 词数, 词典大小)，view之后变为：\n",
        "                (batch_size*词数, 词典大小)。\n",
        "                而在这些预测结果中，我们只需要对非<pad>部分进行，所以需要进行正则化。也就是\n",
        "                除以n_tokens。\n",
        "        \"\"\"\n",
        "        loss = criteria(out.contiguous().view(-1, out.size(-1)), tgt_y.contiguous().view(-1)) / n_tokens\n",
        "        # 计算梯度\n",
        "        loss.backward()\n",
        "        # 更新参数\n",
        "        optimizer.step()\n",
        "\n",
        "        loop.set_description(\"Epoch {}/{}\".format(epoch, epochs))\n",
        "        loop.set_postfix(loss=loss.item())\n",
        "\n",
        "        step += 1\n",
        "\n",
        "        if step != 0 and step % save_after_step == 0:\n",
        "            torch.save(model, work_dir / f\"model_{step}.pt\")"
      ],
      "metadata": {
        "pycharm": {
          "name": "#%%\n"
        },
        "id": "liesUTv7TFg5",
        "outputId": "ba4f1cad-04dc-45e2-eae9-aaa2d1e366f7"
      }
    },
    {
      "cell_type": "markdown",
      "source": [
        "# 模型推理\n",
        "\n",
        "训练完模型后，我们来使用我们的模型来进行一波推理。\n",
        "\n",
        "Transformer推理时，tgt是一次一个的将token传给Transformer，例如，首次tgt为`<bos>`，然后预测出`I`，然后第二次tgt为`<bos> I`，预测出`like`，第三次tgt为`<bos> I like`，以此类推，直到预测结果为`<eos>`，或者达到句子最大长度。"
      ],
      "metadata": {
        "collapsed": false,
        "pycharm": {
          "name": "#%% md\n"
        },
        "id": "0iaArYsWTFg5"
      }
    },
    {
      "cell_type": "code",
      "execution_count": null,
      "outputs": [],
      "source": [
        "model = model.eval()"
      ],
      "metadata": {
        "pycharm": {
          "name": "#%%\n"
        },
        "id": "uuGrxvF0TFg5"
      }
    },
    {
      "cell_type": "code",
      "execution_count": null,
      "outputs": [],
      "source": [
        "def translate(src: str):\n",
        "    \"\"\"\n",
        "    :param src: 英文句子，例如 \"I like machine learning.\"\n",
        "    :return: 翻译后的句子，例如：”我喜欢机器学习“\n",
        "    \"\"\"\n",
        "\n",
        "    # 将与原句子分词后，通过词典转为index，然后增加<bos>和<eos>\n",
        "    src = torch.tensor([0] + en_vocab(en_tokenizer(src)) + [1]).unsqueeze(0)\n",
        "    # 首次tgt为<bos>\n",
        "    tgt = torch.tensor([[0]])\n",
        "    # 一个一个词预测，直到预测为<eos>，或者达到句子最大长度\n",
        "    for i in range(max_length):\n",
        "        # 进行transformer计算\n",
        "        out = model(src, tgt)\n",
        "        # 预测结果，因为只需要看最后一个词，所以取`out[:, -1]`\n",
        "        predict = model.predictor(out[:, -1])\n",
        "        # 找出最大值的index\n",
        "        y = torch.argmax(predict, dim=1)\n",
        "        # 和之前的预测结果拼接到一起\n",
        "        tgt = torch.concat([tgt, y.unsqueeze(0)], dim=1)\n",
        "        # 如果为<eos>，说明预测结束，跳出循环\n",
        "        if y == 1:\n",
        "            break\n",
        "    # 将预测tokens拼起来\n",
        "    tgt = ''.join(zh_vocab.lookup_tokens(tgt.squeeze().tolist())).replace(\"<bos>\", \"\").replace(\"<eos>\", \"\")\n",
        "    return tgt"
      ],
      "metadata": {
        "pycharm": {
          "name": "#%%\n"
        },
        "id": "yjd9iaI7TFg5"
      }
    },
    {
      "cell_type": "code",
      "execution_count": null,
      "outputs": [
        {
          "data": {
            "text/plain": "'一对五。一对五。'"
          },
          "execution_count": 348,
          "metadata": {},
          "output_type": "execute_result"
        }
      ],
      "source": [
        "translate(\"A couple of boys driving around in daddy's car.\")"
      ],
      "metadata": {
        "pycharm": {
          "name": "#%%\n"
        },
        "id": "F6KtFJfFTFg5",
        "outputId": "3118a4c5-60a5-4ab8-d260-574c0b21f13c"
      }
    }
  ],
  "metadata": {
    "kernelspec": {
      "display_name": "Python 3",
      "language": "python",
      "name": "python3"
    },
    "language_info": {
      "codemirror_mode": {
        "name": "ipython",
        "version": 2
      },
      "file_extension": ".py",
      "mimetype": "text/x-python",
      "name": "python",
      "nbconvert_exporter": "python",
      "pygments_lexer": "ipython2",
      "version": "2.7.6"
    },
    "colab": {
      "name": "en_to_zh_demo.ipynb",
      "provenance": [],
      "toc_visible": true
    },
    "accelerator": "GPU",
    "gpuClass": "standard"
  },
  "nbformat": 4,
  "nbformat_minor": 0
}