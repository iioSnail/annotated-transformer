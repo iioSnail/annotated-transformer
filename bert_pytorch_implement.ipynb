{
 "cells": [
  {
   "cell_type": "markdown",
   "source": [
    "# BERT源码实现与解读(Pytorch)"
   ],
   "metadata": {
    "collapsed": false,
    "pycharm": {
     "name": "#%% md\n"
    }
   }
  },
  {
   "cell_type": "markdown",
   "source": [
    "# 本文内容"
   ],
   "metadata": {
    "collapsed": false,
    "pycharm": {
     "name": "#%% md\n"
    }
   }
  },
  {
   "cell_type": "markdown",
   "source": [
    "[论文地址](https://arxiv.org/abs/1810.04805):  https://arxiv.org/abs/1810.04805\n",
    "\n",
    "在BERT的论文中，描述的基本的都是模型如何训练等，对于本身的模型架构并没有过多的说明。这也可以理解，因为BERT架构本身也确实比较简单，就是一些TransformerEncoder的堆叠。虽然这么说，但不看代码很多人还是无法具体知道BERT是怎么样的，所以本文就来搭建一个BERT模型，并使用论文中提到的MLM任务和NSP任务对模型进行训练。\n",
    "\n",
    "本篇需要大家有Transformer的基础，默认你已经熟悉Transformer，所以本篇会直接使用Pytorch中的`nn.Transformer`进行实现。\n",
    "\n",
    "相关文章：\n",
    "\n",
    "[Pytorch中 nn.Transformer的使用详解与Transformer的黑盒讲解](https://blog.csdn.net/zhaohongfei_358/article/details/126019181): https://blog.csdn.net/zhaohongfei_358/article/details/126019181\n",
    "\n",
    "[万字逐行解析与实现Transformer，并进行德译英实战](https://blog.csdn.net/zhaohongfei_358/article/details/126085246): https://blog.csdn.net/zhaohongfei_358/article/details/126085246"
   ],
   "metadata": {
    "collapsed": false,
    "pycharm": {
     "name": "#%% md\n"
    }
   }
  },
  {
   "cell_type": "markdown",
   "metadata": {
    "collapsed": true,
    "pycharm": {
     "name": "#%% md\n"
    }
   },
   "source": [
    "# 环境准备"
   ]
  },
  {
   "cell_type": "markdown",
   "source": [
    "导入本文需要的包："
   ],
   "metadata": {
    "collapsed": false,
    "pycharm": {
     "name": "#%% md\n"
    }
   }
  },
  {
   "cell_type": "code",
   "execution_count": 185,
   "outputs": [],
   "source": [
    "import math\n",
    "import tqdm\n",
    "import random\n",
    "\n",
    "import torch\n",
    "from torch import nn\n",
    "import torch.nn.functional as F\n",
    "from torch.utils.data import Dataset"
   ],
   "metadata": {
    "collapsed": false,
    "pycharm": {
     "name": "#%%\n"
    }
   }
  },
  {
   "cell_type": "code",
   "execution_count": 186,
   "outputs": [
    {
     "data": {
      "text/plain": "'1.11.0+cu115'"
     },
     "execution_count": 186,
     "metadata": {},
     "output_type": "execute_result"
    }
   ],
   "source": [
    "torch.__version__"
   ],
   "metadata": {
    "collapsed": false,
    "pycharm": {
     "name": "#%%\n"
    }
   }
  },
  {
   "cell_type": "markdown",
   "source": [
    "# BERT模型定义"
   ],
   "metadata": {
    "collapsed": false,
    "pycharm": {
     "name": "#%% md\n"
    }
   }
  },
  {
   "cell_type": "markdown",
   "source": [
    "原始BERT使用了两种任务对BERT进行预训练，所以我们将数据集和训练放在后面，先把BERT模型定义出来。"
   ],
   "metadata": {
    "collapsed": false,
    "pycharm": {
     "name": "#%% md\n"
    }
   }
  },
  {
   "cell_type": "markdown",
   "source": [
    "## BERT Embedding"
   ],
   "metadata": {
    "collapsed": false,
    "pycharm": {
     "name": "#%% md\n"
    }
   }
  },
  {
   "cell_type": "markdown",
   "source": [
    "在Transformer中，对token的编码使用的是token embedding+position embedding，而在BERT中，增加了segment embedding，即文本的段落信息，在原论文中，bert的inputs是两句话，该embedding用于区分这是第一句话还是第二句话。我们先将这3中Embedding定义出来："
   ],
   "metadata": {
    "collapsed": false,
    "pycharm": {
     "name": "#%% md\n"
    }
   }
  },
  {
   "cell_type": "code",
   "execution_count": 187,
   "outputs": [],
   "source": [
    "class TokenEmbedding(nn.Embedding):\n",
    "    def __init__(self, vocab_size, embed_size):\n",
    "        super().__init__(vocab_size, embed_size, padding_idx=0)"
   ],
   "metadata": {
    "collapsed": false,
    "pycharm": {
     "name": "#%%\n"
    }
   }
  },
  {
   "cell_type": "markdown",
   "source": [
    "Token Embedding就是一个`nn.Emebdding`，和Transformer一致。"
   ],
   "metadata": {
    "collapsed": false,
    "pycharm": {
     "name": "#%% md\n"
    }
   }
  },
  {
   "cell_type": "code",
   "execution_count": 188,
   "outputs": [],
   "source": [
    "class PositionalEmbedding(nn.Module):\n",
    "\n",
    "    def __init__(self, d_model, max_len=512):\n",
    "        super().__init__()\n",
    "\n",
    "        # Compute the positional encodings once in log space.\n",
    "        pe = torch.zeros(max_len, d_model).float()\n",
    "        pe.require_grad = False\n",
    "\n",
    "        position = torch.arange(0, max_len).float().unsqueeze(1)\n",
    "        div_term = (torch.arange(0, d_model, 2).float() * -(math.log(10000.0) / d_model)).exp()\n",
    "\n",
    "        pe[:, 0::2] = torch.sin(position * div_term)\n",
    "        pe[:, 1::2] = torch.cos(position * div_term)\n",
    "\n",
    "        pe = pe.unsqueeze(0)\n",
    "        self.register_buffer('pe', pe)\n",
    "\n",
    "    def forward(self, x):\n",
    "        return self.pe[:, :x.size(1)]"
   ],
   "metadata": {
    "collapsed": false,
    "pycharm": {
     "name": "#%%\n"
    }
   }
  },
  {
   "cell_type": "markdown",
   "source": [
    "Position Embedding和Transformer也一致。"
   ],
   "metadata": {
    "collapsed": false,
    "pycharm": {
     "name": "#%% md\n"
    }
   }
  },
  {
   "cell_type": "code",
   "execution_count": 189,
   "outputs": [],
   "source": [
    "class SegmentEmbedding(nn.Embedding):\n",
    "    def __init__(self, embed_size=512):\n",
    "        super().__init__(3, embed_size, padding_idx=0)"
   ],
   "metadata": {
    "collapsed": false,
    "pycharm": {
     "name": "#%%\n"
    }
   }
  },
  {
   "cell_type": "markdown",
   "source": [
    "Segment Embedding也是一个nn.Embedding，但需要注意的是其词典大小只有3，其中0是填充，1代表第一句话，2代表第二句话。"
   ],
   "metadata": {
    "collapsed": false,
    "pycharm": {
     "name": "#%% md\n"
    }
   }
  },
  {
   "cell_type": "markdown",
   "source": [
    "定义完上面三个Embedding类，就可以把BERT Embedding类定义出来了，其比较简单，就是它们三个相加："
   ],
   "metadata": {
    "collapsed": false,
    "pycharm": {
     "name": "#%% md\n"
    }
   }
  },
  {
   "cell_type": "code",
   "execution_count": 192,
   "outputs": [],
   "source": [
    "class BERTEmbedding(nn.Module):\n",
    "\n",
    "    def __init__(self, vocab_size, embed_size, dropout=0.1):\n",
    "        \"\"\"\n",
    "        :param vocab_size: token的词典大小\n",
    "        :param embed_size: 词向量大小\n",
    "        \"\"\"\n",
    "        super().__init__()\n",
    "        self.token = TokenEmbedding(vocab_size=vocab_size, embed_size=embed_size)\n",
    "        self.position = PositionalEmbedding(d_model=self.token.embedding_dim)\n",
    "        self.segment = SegmentEmbedding(embed_size=self.token.embedding_dim)\n",
    "        self.dropout = nn.Dropout(p=dropout)\n",
    "        self.embed_size = embed_size\n",
    "\n",
    "    def forward(self, sequence, segment_label):\n",
    "        x = self.token(sequence) + self.position(sequence) + self.segment(segment_label)\n",
    "        return self.dropout(x)"
   ],
   "metadata": {
    "collapsed": false,
    "pycharm": {
     "name": "#%%\n"
    }
   }
  },
  {
   "cell_type": "markdown",
   "source": [
    "## BERT"
   ],
   "metadata": {
    "collapsed": false,
    "pycharm": {
     "name": "#%% md\n"
    }
   }
  },
  {
   "cell_type": "code",
   "execution_count": 193,
   "outputs": [],
   "source": [
    "class BERT(nn.Module):\n",
    "\n",
    "    def __init__(self, vocab_size, hidden=768, n_layers=12, attn_heads=12, dropout=0.1):\n",
    "        \"\"\"\n",
    "        :param vocab_size: vocab_size of total words\n",
    "        :param hidden: BERT model hidden size\n",
    "        :param n_layers: numbers of Transformer blocks(layers)\n",
    "        :param attn_heads: number of attention heads\n",
    "        :param dropout: dropout rate\n",
    "        \"\"\"\n",
    "\n",
    "        super().__init__()\n",
    "        self.hidden = hidden\n",
    "        self.n_layers = n_layers\n",
    "        self.attn_heads = attn_heads\n",
    "\n",
    "        # 论文中提到它们使用的feed_forward_hidden的大小为hidde_size*4\n",
    "        feed_forward_hidden = hidden * 4\n",
    "\n",
    "        self.embedding = BERTEmbedding(vocab_size=vocab_size, embed_size=hidden)\n",
    "\n",
    "        # 在论文中提到，BERT中Transformer的激活函数使用的是GELU\n",
    "        transformer_encoder = nn.TransformerEncoderLayer(d_model=hidden, nhead=attn_heads, dim_feedforward=feed_forward_hidden, dropout=dropout, activation=F.gelu, batch_first=True)\n",
    "\n",
    "        # 多层TransformerEncoder堆叠\n",
    "        self.transformer_blocks = nn.ModuleList([transformer_encoder for _ in range(n_layers)])\n",
    "\n",
    "    def forward(self, x, segment_info):\n",
    "        # attention masking for padded token\n",
    "        # torch.ByteTensor([batch_size, 1, seq_len, seq_len)\n",
    "        mask = (x > 0).unsqueeze(1).repeat(1, x.size(1), 1).unsqueeze(1)\n",
    "\n",
    "        # embedding the indexed sequence to sequence of vectors\n",
    "        x = self.embedding(x, segment_info)\n",
    "\n",
    "        # running over multiple transformer blocks\n",
    "        for transformer in self.transformer_blocks:\n",
    "            print(\"x size:\", x.size())\n",
    "            print(\"mask size:\", mask.size())\n",
    "            x = transformer.forward(x, mask)\n",
    "\n",
    "        return x"
   ],
   "metadata": {
    "collapsed": false,
    "pycharm": {
     "name": "#%%\n"
    }
   }
  },
  {
   "cell_type": "code",
   "execution_count": null,
   "outputs": [],
   "source": [
    "bert = BERT(vocab_size=20000, hidden=1024, n_layers=24, attn_heads=16)"
   ],
   "metadata": {
    "collapsed": false,
    "pycharm": {
     "name": "#%%\n"
    }
   }
  },
  {
   "cell_type": "code",
   "execution_count": 194,
   "outputs": [
    {
     "name": "stdout",
     "output_type": "stream",
     "text": [
      "x size: torch.Size([1, 12, 1024])\n",
      "mask size: torch.Size([1, 1, 12, 12])\n",
      "query.size: torch.Size([1, 16, 12, 64])\n",
      "key.size: torch.Size([1, 16, 12, 64])\n",
      "value.size: torch.Size([1, 16, 12, 64])\n",
      "mask.size: torch.Size([1, 1, 12, 12])\n",
      "x size: torch.Size([1, 12, 1024])\n",
      "mask size: torch.Size([1, 1, 12, 12])\n",
      "query.size: torch.Size([1, 16, 12, 64])\n",
      "key.size: torch.Size([1, 16, 12, 64])\n",
      "value.size: torch.Size([1, 16, 12, 64])\n",
      "mask.size: torch.Size([1, 1, 12, 12])\n",
      "x size: torch.Size([1, 12, 1024])\n",
      "mask size: torch.Size([1, 1, 12, 12])\n",
      "query.size: torch.Size([1, 16, 12, 64])\n",
      "key.size: torch.Size([1, 16, 12, 64])\n",
      "value.size: torch.Size([1, 16, 12, 64])\n",
      "mask.size: torch.Size([1, 1, 12, 12])\n",
      "x size: torch.Size([1, 12, 1024])\n",
      "mask size: torch.Size([1, 1, 12, 12])\n",
      "query.size: torch.Size([1, 16, 12, 64])\n",
      "key.size: torch.Size([1, 16, 12, 64])\n",
      "value.size: torch.Size([1, 16, 12, 64])\n",
      "mask.size: torch.Size([1, 1, 12, 12])\n",
      "x size: torch.Size([1, 12, 1024])\n",
      "mask size: torch.Size([1, 1, 12, 12])\n",
      "query.size: torch.Size([1, 16, 12, 64])\n",
      "key.size: torch.Size([1, 16, 12, 64])\n",
      "value.size: torch.Size([1, 16, 12, 64])\n",
      "mask.size: torch.Size([1, 1, 12, 12])\n",
      "x size: torch.Size([1, 12, 1024])\n",
      "mask size: torch.Size([1, 1, 12, 12])\n",
      "query.size: torch.Size([1, 16, 12, 64])\n",
      "key.size: torch.Size([1, 16, 12, 64])\n",
      "value.size: torch.Size([1, 16, 12, 64])\n",
      "mask.size: torch.Size([1, 1, 12, 12])\n",
      "x size: torch.Size([1, 12, 1024])\n",
      "mask size: torch.Size([1, 1, 12, 12])\n",
      "query.size: torch.Size([1, 16, 12, 64])\n",
      "key.size: torch.Size([1, 16, 12, 64])\n",
      "value.size: torch.Size([1, 16, 12, 64])\n",
      "mask.size: torch.Size([1, 1, 12, 12])\n",
      "x size: torch.Size([1, 12, 1024])\n",
      "mask size: torch.Size([1, 1, 12, 12])\n",
      "query.size: torch.Size([1, 16, 12, 64])\n",
      "key.size: torch.Size([1, 16, 12, 64])\n",
      "value.size: torch.Size([1, 16, 12, 64])\n",
      "mask.size: torch.Size([1, 1, 12, 12])\n",
      "x size: torch.Size([1, 12, 1024])\n",
      "mask size: torch.Size([1, 1, 12, 12])\n",
      "query.size: torch.Size([1, 16, 12, 64])\n",
      "key.size: torch.Size([1, 16, 12, 64])\n",
      "value.size: torch.Size([1, 16, 12, 64])\n",
      "mask.size: torch.Size([1, 1, 12, 12])\n",
      "x size: torch.Size([1, 12, 1024])\n",
      "mask size: torch.Size([1, 1, 12, 12])\n",
      "query.size: torch.Size([1, 16, 12, 64])\n",
      "key.size: torch.Size([1, 16, 12, 64])\n",
      "value.size: torch.Size([1, 16, 12, 64])\n",
      "mask.size: torch.Size([1, 1, 12, 12])\n",
      "x size: torch.Size([1, 12, 1024])\n",
      "mask size: torch.Size([1, 1, 12, 12])\n",
      "query.size: torch.Size([1, 16, 12, 64])\n",
      "key.size: torch.Size([1, 16, 12, 64])\n",
      "value.size: torch.Size([1, 16, 12, 64])\n",
      "mask.size: torch.Size([1, 1, 12, 12])\n",
      "x size: torch.Size([1, 12, 1024])\n",
      "mask size: torch.Size([1, 1, 12, 12])\n",
      "query.size: torch.Size([1, 16, 12, 64])\n",
      "key.size: torch.Size([1, 16, 12, 64])\n",
      "value.size: torch.Size([1, 16, 12, 64])\n",
      "mask.size: torch.Size([1, 1, 12, 12])\n",
      "x size: torch.Size([1, 12, 1024])\n",
      "mask size: torch.Size([1, 1, 12, 12])\n",
      "query.size: torch.Size([1, 16, 12, 64])\n",
      "key.size: torch.Size([1, 16, 12, 64])\n",
      "value.size: torch.Size([1, 16, 12, 64])\n",
      "mask.size: torch.Size([1, 1, 12, 12])\n",
      "x size: torch.Size([1, 12, 1024])\n",
      "mask size: torch.Size([1, 1, 12, 12])\n",
      "query.size: torch.Size([1, 16, 12, 64])\n",
      "key.size: torch.Size([1, 16, 12, 64])\n",
      "value.size: torch.Size([1, 16, 12, 64])\n",
      "mask.size: torch.Size([1, 1, 12, 12])\n",
      "x size: torch.Size([1, 12, 1024])\n",
      "mask size: torch.Size([1, 1, 12, 12])\n",
      "query.size: torch.Size([1, 16, 12, 64])\n",
      "key.size: torch.Size([1, 16, 12, 64])\n",
      "value.size: torch.Size([1, 16, 12, 64])\n",
      "mask.size: torch.Size([1, 1, 12, 12])\n",
      "x size: torch.Size([1, 12, 1024])\n",
      "mask size: torch.Size([1, 1, 12, 12])\n",
      "query.size: torch.Size([1, 16, 12, 64])\n",
      "key.size: torch.Size([1, 16, 12, 64])\n",
      "value.size: torch.Size([1, 16, 12, 64])\n",
      "mask.size: torch.Size([1, 1, 12, 12])\n",
      "x size: torch.Size([1, 12, 1024])\n",
      "mask size: torch.Size([1, 1, 12, 12])\n",
      "query.size: torch.Size([1, 16, 12, 64])\n",
      "key.size: torch.Size([1, 16, 12, 64])\n",
      "value.size: torch.Size([1, 16, 12, 64])\n",
      "mask.size: torch.Size([1, 1, 12, 12])\n",
      "x size: torch.Size([1, 12, 1024])\n",
      "mask size: torch.Size([1, 1, 12, 12])\n",
      "query.size: torch.Size([1, 16, 12, 64])\n",
      "key.size: torch.Size([1, 16, 12, 64])\n",
      "value.size: torch.Size([1, 16, 12, 64])\n",
      "mask.size: torch.Size([1, 1, 12, 12])\n",
      "x size: torch.Size([1, 12, 1024])\n",
      "mask size: torch.Size([1, 1, 12, 12])\n",
      "query.size: torch.Size([1, 16, 12, 64])\n",
      "key.size: torch.Size([1, 16, 12, 64])\n",
      "value.size: torch.Size([1, 16, 12, 64])\n",
      "mask.size: torch.Size([1, 1, 12, 12])\n",
      "x size: torch.Size([1, 12, 1024])\n",
      "mask size: torch.Size([1, 1, 12, 12])\n",
      "query.size: torch.Size([1, 16, 12, 64])\n",
      "key.size: torch.Size([1, 16, 12, 64])\n",
      "value.size: torch.Size([1, 16, 12, 64])\n",
      "mask.size: torch.Size([1, 1, 12, 12])\n",
      "x size: torch.Size([1, 12, 1024])\n",
      "mask size: torch.Size([1, 1, 12, 12])\n",
      "query.size: torch.Size([1, 16, 12, 64])\n",
      "key.size: torch.Size([1, 16, 12, 64])\n",
      "value.size: torch.Size([1, 16, 12, 64])\n",
      "mask.size: torch.Size([1, 1, 12, 12])\n",
      "x size: torch.Size([1, 12, 1024])\n",
      "mask size: torch.Size([1, 1, 12, 12])\n",
      "query.size: torch.Size([1, 16, 12, 64])\n",
      "key.size: torch.Size([1, 16, 12, 64])\n",
      "value.size: torch.Size([1, 16, 12, 64])\n",
      "mask.size: torch.Size([1, 1, 12, 12])\n",
      "x size: torch.Size([1, 12, 1024])\n",
      "mask size: torch.Size([1, 1, 12, 12])\n",
      "query.size: torch.Size([1, 16, 12, 64])\n",
      "key.size: torch.Size([1, 16, 12, 64])\n",
      "value.size: torch.Size([1, 16, 12, 64])\n",
      "mask.size: torch.Size([1, 1, 12, 12])\n",
      "x size: torch.Size([1, 12, 1024])\n",
      "mask size: torch.Size([1, 1, 12, 12])\n",
      "query.size: torch.Size([1, 16, 12, 64])\n",
      "key.size: torch.Size([1, 16, 12, 64])\n",
      "value.size: torch.Size([1, 16, 12, 64])\n",
      "mask.size: torch.Size([1, 1, 12, 12])\n"
     ]
    },
    {
     "data": {
      "text/plain": "torch.Size([1, 12, 1024])"
     },
     "execution_count": 194,
     "metadata": {},
     "output_type": "execute_result"
    }
   ],
   "source": [
    "x = torch.tensor([[1,2,3,4,5,5,4,3,2,1, 0,0]])\n",
    "segment_info = torch.tensor([[1,1,1,1,1,2,2,2,2,2, 0,0]])\n",
    "bert(x, segment_info).size()"
   ],
   "metadata": {
    "collapsed": false,
    "pycharm": {
     "name": "#%%\n"
    }
   }
  },
  {
   "cell_type": "code",
   "execution_count": null,
   "outputs": [],
   "source": [],
   "metadata": {
    "collapsed": false,
    "pycharm": {
     "name": "#%%\n"
    }
   }
  },
  {
   "cell_type": "code",
   "execution_count": null,
   "outputs": [],
   "source": [],
   "metadata": {
    "collapsed": false,
    "pycharm": {
     "name": "#%%\n"
    }
   }
  },
  {
   "cell_type": "markdown",
   "source": [
    "# Model"
   ],
   "metadata": {
    "collapsed": false,
    "pycharm": {
     "name": "#%% md\n"
    }
   },
   "outputs": [],
   "execution_count": 0
  },
  {
   "cell_type": "markdown",
   "source": [
    "## Attention"
   ],
   "metadata": {
    "collapsed": false,
    "pycharm": {
     "name": "#%% md\n"
    }
   }
  },
  {
   "cell_type": "code",
   "execution_count": 136,
   "outputs": [],
   "source": [
    "class Attention(nn.Module):\n",
    "    \"\"\"\n",
    "    Compute 'Scaled Dot Product Attention\n",
    "    \"\"\"\n",
    "\n",
    "    def forward(self, query, key, value, mask=None, dropout=None):\n",
    "        scores = torch.matmul(query, key.transpose(-2, -1)) \\\n",
    "                 / math.sqrt(query.size(-1))\n",
    "\n",
    "        if mask is not None:\n",
    "            scores = scores.masked_fill(mask == 0, -1e9)\n",
    "\n",
    "        p_attn = F.softmax(scores, dim=-1)\n",
    "\n",
    "        if dropout is not None:\n",
    "            p_attn = dropout(p_attn)\n",
    "\n",
    "        return torch.matmul(p_attn, value), p_attn"
   ],
   "metadata": {
    "collapsed": false,
    "pycharm": {
     "name": "#%%\n"
    }
   }
  },
  {
   "cell_type": "code",
   "execution_count": 137,
   "outputs": [],
   "source": [
    "class MultiHeadedAttention(nn.Module):\n",
    "    \"\"\"\n",
    "    Take in model size and number of heads.\n",
    "    \"\"\"\n",
    "\n",
    "    def __init__(self, h, d_model, dropout=0.1):\n",
    "        super().__init__()\n",
    "        assert d_model % h == 0\n",
    "\n",
    "        # We assume d_v always equals d_k\n",
    "        self.d_k = d_model // h\n",
    "        self.h = h\n",
    "\n",
    "        self.linear_layers = nn.ModuleList([nn.Linear(d_model, d_model) for _ in range(3)])\n",
    "        self.output_linear = nn.Linear(d_model, d_model)\n",
    "        self.attention = Attention()\n",
    "\n",
    "        self.dropout = nn.Dropout(p=dropout)\n",
    "\n",
    "    def forward(self, query, key, value, mask=None):\n",
    "        batch_size = query.size(0)\n",
    "\n",
    "        # 1) Do all the linear projections in batch from d_model => h x d_k\n",
    "        query, key, value = [l(x).view(batch_size, -1, self.h, self.d_k).transpose(1, 2)\n",
    "                             for l, x in zip(self.linear_layers, (query, key, value))]\n",
    "\n",
    "        print(\"query.size:\", query.size())\n",
    "        print(\"key.size:\", key.size())\n",
    "        print(\"value.size:\", value.size())\n",
    "        print(\"mask.size:\", mask.size())\n",
    "        # 2) Apply attention on all the projected vectors in batch.\n",
    "        x, attn = self.attention(query, key, value, mask=mask, dropout=self.dropout)\n",
    "\n",
    "        # 3) \"Concat\" using a view and apply a final linear.\n",
    "        x = x.transpose(1, 2).contiguous().view(batch_size, -1, self.h * self.d_k)\n",
    "\n",
    "        return self.output_linear(x)"
   ],
   "metadata": {
    "collapsed": false,
    "pycharm": {
     "name": "#%%\n"
    }
   }
  },
  {
   "cell_type": "markdown",
   "source": [
    "## Embedding"
   ],
   "metadata": {
    "collapsed": false,
    "pycharm": {
     "name": "#%% md\n"
    }
   }
  },
  {
   "cell_type": "code",
   "execution_count": 138,
   "outputs": [],
   "source": [],
   "metadata": {
    "collapsed": false,
    "pycharm": {
     "name": "#%%\n"
    }
   }
  },
  {
   "cell_type": "code",
   "execution_count": 139,
   "outputs": [],
   "source": [],
   "metadata": {
    "collapsed": false,
    "pycharm": {
     "name": "#%%\n"
    }
   }
  },
  {
   "cell_type": "code",
   "execution_count": 140,
   "outputs": [],
   "source": [],
   "metadata": {
    "collapsed": false,
    "pycharm": {
     "name": "#%%\n"
    }
   }
  },
  {
   "cell_type": "markdown",
   "source": [
    "## Transformer"
   ],
   "metadata": {
    "collapsed": false,
    "pycharm": {
     "name": "#%% md\n"
    }
   }
  },
  {
   "cell_type": "code",
   "execution_count": 142,
   "outputs": [],
   "source": [
    "class SublayerConnection(nn.Module):\n",
    "    \"\"\"\n",
    "    A residual connection followed by a layer norm.\n",
    "    Note for code simplicity the norm is first as opposed to last.\n",
    "    \"\"\"\n",
    "\n",
    "    def __init__(self, size, dropout):\n",
    "        super(SublayerConnection, self).__init__()\n",
    "        self.norm = LayerNorm(size)\n",
    "        self.dropout = nn.Dropout(dropout)\n",
    "\n",
    "    def forward(self, x, sublayer):\n",
    "        \"Apply residual connection to any sublayer with the same size.\"\n",
    "        return x + self.dropout(sublayer(self.norm(x)))"
   ],
   "metadata": {
    "collapsed": false,
    "pycharm": {
     "name": "#%%\n"
    }
   }
  },
  {
   "cell_type": "code",
   "execution_count": 143,
   "outputs": [],
   "source": [
    "class LayerNorm(nn.Module):\n",
    "    \"Construct a layernorm module (See citation for details).\"\n",
    "\n",
    "    def __init__(self, features, eps=1e-6):\n",
    "        super(LayerNorm, self).__init__()\n",
    "        self.a_2 = nn.Parameter(torch.ones(features))\n",
    "        self.b_2 = nn.Parameter(torch.zeros(features))\n",
    "        self.eps = eps\n",
    "\n",
    "    def forward(self, x):\n",
    "        mean = x.mean(-1, keepdim=True)\n",
    "        std = x.std(-1, keepdim=True)\n",
    "        return self.a_2 * (x - mean) / (std + self.eps) + self.b_2"
   ],
   "metadata": {
    "collapsed": false,
    "pycharm": {
     "name": "#%%\n"
    }
   }
  },
  {
   "cell_type": "code",
   "execution_count": 144,
   "outputs": [],
   "source": [
    "class GELU(nn.Module):\n",
    "    \"\"\"\n",
    "    Paper Section 3.4, last paragraph notice that BERT used the GELU instead of RELU\n",
    "    \"\"\"\n",
    "\n",
    "    def forward(self, x):\n",
    "        return 0.5 * x * (1 + torch.tanh(math.sqrt(2 / math.pi) * (x + 0.044715 * torch.pow(x, 3))))"
   ],
   "metadata": {
    "collapsed": false,
    "pycharm": {
     "name": "#%%\n"
    }
   }
  },
  {
   "cell_type": "code",
   "execution_count": 145,
   "outputs": [],
   "source": [
    "class PositionwiseFeedForward(nn.Module):\n",
    "    \"Implements FFN equation.\"\n",
    "\n",
    "    def __init__(self, d_model, d_ff, dropout=0.1):\n",
    "        super(PositionwiseFeedForward, self).__init__()\n",
    "        self.w_1 = nn.Linear(d_model, d_ff)\n",
    "        self.w_2 = nn.Linear(d_ff, d_model)\n",
    "        self.dropout = nn.Dropout(dropout)\n",
    "        self.activation = GELU()\n",
    "\n",
    "    def forward(self, x):\n",
    "        return self.w_2(self.dropout(self.activation(self.w_1(x))))"
   ],
   "metadata": {
    "collapsed": false,
    "pycharm": {
     "name": "#%%\n"
    }
   }
  },
  {
   "cell_type": "code",
   "execution_count": 146,
   "outputs": [],
   "source": [
    "class TransformerBlock(nn.Module):\n",
    "    \"\"\"\n",
    "    Bidirectional Encoder = Transformer (self-attention)\n",
    "    Transformer = MultiHead_Attention + Feed_Forward with sublayer connection\n",
    "    \"\"\"\n",
    "\n",
    "    def __init__(self, hidden, attn_heads, feed_forward_hidden, dropout):\n",
    "        \"\"\"\n",
    "        :param hidden: hidden size of transformer\n",
    "        :param attn_heads: head sizes of multi-head attention\n",
    "        :param feed_forward_hidden: feed_forward_hidden, usually 4*hidden_size\n",
    "        :param dropout: dropout rate\n",
    "        \"\"\"\n",
    "\n",
    "        super().__init__()\n",
    "        self.attention = MultiHeadedAttention(h=attn_heads, d_model=hidden)\n",
    "        self.feed_forward = PositionwiseFeedForward(d_model=hidden, d_ff=feed_forward_hidden, dropout=dropout)\n",
    "        self.input_sublayer = SublayerConnection(size=hidden, dropout=dropout)\n",
    "        self.output_sublayer = SublayerConnection(size=hidden, dropout=dropout)\n",
    "        self.dropout = nn.Dropout(p=dropout)\n",
    "\n",
    "    def forward(self, x, mask):\n",
    "        x = self.input_sublayer(x, lambda _x: self.attention.forward(_x, _x, _x, mask=mask))\n",
    "        x = self.output_sublayer(x, self.feed_forward)\n",
    "        return self.dropout(x)"
   ],
   "metadata": {
    "collapsed": false,
    "pycharm": {
     "name": "#%%\n"
    }
   }
  },
  {
   "cell_type": "markdown",
   "source": [
    "## BERT"
   ],
   "metadata": {
    "collapsed": false,
    "pycharm": {
     "name": "#%% md\n"
    }
   }
  },
  {
   "cell_type": "code",
   "execution_count": 147,
   "outputs": [],
   "source": [
    "class BERT(nn.Module):\n",
    "    \"\"\"\n",
    "    BERT model : Bidirectional Encoder Representations from Transformers.\n",
    "    \"\"\"\n",
    "\n",
    "    def __init__(self, vocab_size, hidden=768, n_layers=12, attn_heads=12, dropout=0.1):\n",
    "        \"\"\"\n",
    "        :param vocab_size: vocab_size of total words\n",
    "        :param hidden: BERT model hidden size\n",
    "        :param n_layers: numbers of Transformer blocks(layers)\n",
    "        :param attn_heads: number of attention heads\n",
    "        :param dropout: dropout rate\n",
    "        \"\"\"\n",
    "\n",
    "        super().__init__()\n",
    "        self.hidden = hidden\n",
    "        self.n_layers = n_layers\n",
    "        self.attn_heads = attn_heads\n",
    "\n",
    "        # paper noted they used 4*hidden_size for ff_network_hidden_size\n",
    "        self.feed_forward_hidden = hidden * 4\n",
    "\n",
    "        # embedding for BERT, sum of positional, segment, token embeddings\n",
    "        self.embedding = BERTEmbedding(vocab_size=vocab_size, embed_size=hidden)\n",
    "\n",
    "        # multi-layers transformer blocks, deep network\n",
    "        self.transformer_blocks = nn.ModuleList(\n",
    "            [TransformerBlock(hidden, attn_heads, hidden * 4, dropout) for _ in range(n_layers)])\n",
    "\n",
    "    def forward(self, x, segment_info):\n",
    "        # attention masking for padded token\n",
    "        # torch.ByteTensor([batch_size, 1, seq_len, seq_len)\n",
    "        mask = (x > 0).unsqueeze(1).repeat(1, x.size(1), 1).unsqueeze(1)\n",
    "\n",
    "        # embedding the indexed sequence to sequence of vectors\n",
    "        x = self.embedding(x, segment_info)\n",
    "\n",
    "        # running over multiple transformer blocks\n",
    "        for transformer in self.transformer_blocks:\n",
    "            print(\"x size:\", x.size())\n",
    "            print(\"mask size:\", mask.size())\n",
    "            x = transformer.forward(x, mask)\n",
    "\n",
    "        return x"
   ],
   "metadata": {
    "collapsed": false,
    "pycharm": {
     "name": "#%%\n"
    }
   }
  },
  {
   "cell_type": "code",
   "execution_count": 181,
   "outputs": [],
   "source": [
    "bert = BERT(vocab_size=20000, hidden=1024, n_layers=24, attn_heads=16)"
   ],
   "metadata": {
    "collapsed": false,
    "pycharm": {
     "name": "#%%\n"
    }
   }
  },
  {
   "cell_type": "code",
   "execution_count": 172,
   "outputs": [],
   "source": [
    "# bert"
   ],
   "metadata": {
    "collapsed": false,
    "pycharm": {
     "name": "#%%\n"
    }
   }
  },
  {
   "cell_type": "code",
   "execution_count": 173,
   "outputs": [],
   "source": [
    "x = torch.tensor([[1,2,3,4,5,5,4,3,2,1, 0,0]])\n",
    "segment_info = torch.tensor([[1,1,1,1,1,2,2,2,2,2, 0,0]])\n",
    "bert(x, segment_info).size()"
   ],
   "metadata": {
    "collapsed": false,
    "pycharm": {
     "name": "#%%\n"
    }
   }
  },
  {
   "cell_type": "code",
   "execution_count": 174,
   "outputs": [],
   "source": [],
   "metadata": {
    "collapsed": false,
    "pycharm": {
     "name": "#%%\n"
    }
   }
  },
  {
   "cell_type": "code",
   "execution_count": 178,
   "outputs": [
    {
     "name": "stdout",
     "output_type": "stream",
     "text": [
      "x size: torch.Size([1, 12, 768])\n",
      "mask size: torch.Size([1, 1, 12, 12])\n",
      "query.size: torch.Size([1, 12, 12, 64])\n",
      "key.size: torch.Size([1, 12, 12, 64])\n",
      "value.size: torch.Size([1, 12, 12, 64])\n",
      "mask.size: torch.Size([1, 1, 12, 12])\n",
      "x size: torch.Size([1, 12, 768])\n",
      "mask size: torch.Size([1, 1, 12, 12])\n",
      "query.size: torch.Size([1, 12, 12, 64])\n",
      "key.size: torch.Size([1, 12, 12, 64])\n",
      "value.size: torch.Size([1, 12, 12, 64])\n",
      "mask.size: torch.Size([1, 1, 12, 12])\n",
      "x size: torch.Size([1, 12, 768])\n",
      "mask size: torch.Size([1, 1, 12, 12])\n",
      "query.size: torch.Size([1, 12, 12, 64])\n",
      "key.size: torch.Size([1, 12, 12, 64])\n",
      "value.size: torch.Size([1, 12, 12, 64])\n",
      "mask.size: torch.Size([1, 1, 12, 12])\n",
      "x size: torch.Size([1, 12, 768])\n",
      "mask size: torch.Size([1, 1, 12, 12])\n",
      "query.size: torch.Size([1, 12, 12, 64])\n",
      "key.size: torch.Size([1, 12, 12, 64])\n",
      "value.size: torch.Size([1, 12, 12, 64])\n",
      "mask.size: torch.Size([1, 1, 12, 12])\n",
      "x size: torch.Size([1, 12, 768])\n",
      "mask size: torch.Size([1, 1, 12, 12])\n",
      "query.size: torch.Size([1, 12, 12, 64])\n",
      "key.size: torch.Size([1, 12, 12, 64])\n",
      "value.size: torch.Size([1, 12, 12, 64])\n",
      "mask.size: torch.Size([1, 1, 12, 12])\n",
      "x size: torch.Size([1, 12, 768])\n",
      "mask size: torch.Size([1, 1, 12, 12])\n",
      "query.size: torch.Size([1, 12, 12, 64])\n",
      "key.size: torch.Size([1, 12, 12, 64])\n",
      "value.size: torch.Size([1, 12, 12, 64])\n",
      "mask.size: torch.Size([1, 1, 12, 12])\n",
      "x size: torch.Size([1, 12, 768])\n",
      "mask size: torch.Size([1, 1, 12, 12])\n",
      "query.size: torch.Size([1, 12, 12, 64])\n",
      "key.size: torch.Size([1, 12, 12, 64])\n",
      "value.size: torch.Size([1, 12, 12, 64])\n",
      "mask.size: torch.Size([1, 1, 12, 12])\n",
      "x size: torch.Size([1, 12, 768])\n",
      "mask size: torch.Size([1, 1, 12, 12])\n",
      "query.size: torch.Size([1, 12, 12, 64])\n",
      "key.size: torch.Size([1, 12, 12, 64])\n",
      "value.size: torch.Size([1, 12, 12, 64])\n",
      "mask.size: torch.Size([1, 1, 12, 12])\n",
      "x size: torch.Size([1, 12, 768])\n",
      "mask size: torch.Size([1, 1, 12, 12])\n",
      "query.size: torch.Size([1, 12, 12, 64])\n",
      "key.size: torch.Size([1, 12, 12, 64])\n",
      "value.size: torch.Size([1, 12, 12, 64])\n",
      "mask.size: torch.Size([1, 1, 12, 12])\n",
      "x size: torch.Size([1, 12, 768])\n",
      "mask size: torch.Size([1, 1, 12, 12])\n",
      "query.size: torch.Size([1, 12, 12, 64])\n",
      "key.size: torch.Size([1, 12, 12, 64])\n",
      "value.size: torch.Size([1, 12, 12, 64])\n",
      "mask.size: torch.Size([1, 1, 12, 12])\n",
      "x size: torch.Size([1, 12, 768])\n",
      "mask size: torch.Size([1, 1, 12, 12])\n",
      "query.size: torch.Size([1, 12, 12, 64])\n",
      "key.size: torch.Size([1, 12, 12, 64])\n",
      "value.size: torch.Size([1, 12, 12, 64])\n",
      "mask.size: torch.Size([1, 1, 12, 12])\n",
      "x size: torch.Size([1, 12, 768])\n",
      "mask size: torch.Size([1, 1, 12, 12])\n",
      "query.size: torch.Size([1, 12, 12, 64])\n",
      "key.size: torch.Size([1, 12, 12, 64])\n",
      "value.size: torch.Size([1, 12, 12, 64])\n",
      "mask.size: torch.Size([1, 1, 12, 12])\n"
     ]
    },
    {
     "data": {
      "text/plain": "torch.Size([1, 12, 768])"
     },
     "execution_count": 178,
     "metadata": {},
     "output_type": "execute_result"
    }
   ],
   "source": [],
   "metadata": {
    "collapsed": false,
    "pycharm": {
     "name": "#%%\n"
    }
   }
  },
  {
   "cell_type": "code",
   "execution_count": 182,
   "outputs": [
    {
     "data": {
      "text/plain": "322792448"
     },
     "execution_count": 182,
     "metadata": {},
     "output_type": "execute_result"
    }
   ],
   "source": [
    "sum([param.nelement() for param in bert.parameters()])"
   ],
   "metadata": {
    "collapsed": false,
    "pycharm": {
     "name": "#%%\n"
    }
   }
  },
  {
   "cell_type": "code",
   "execution_count": null,
   "outputs": [],
   "source": [],
   "metadata": {
    "collapsed": false,
    "pycharm": {
     "name": "#%%\n"
    }
   }
  }
 ],
 "metadata": {
  "kernelspec": {
   "display_name": "Python 3",
   "language": "python",
   "name": "python3"
  },
  "language_info": {
   "codemirror_mode": {
    "name": "ipython",
    "version": 2
   },
   "file_extension": ".py",
   "mimetype": "text/x-python",
   "name": "python",
   "nbconvert_exporter": "python",
   "pygments_lexer": "ipython2",
   "version": "2.7.6"
  }
 },
 "nbformat": 4,
 "nbformat_minor": 0
}