{
 "cells": [
  {
   "cell_type": "markdown",
   "metadata": {
    "collapsed": true,
    "pycharm": {
     "name": "#%% md\n"
    }
   },
   "source": [
    "# HuggingFace简介"
   ]
  },
  {
   "cell_type": "markdown",
   "source": [
    "[Hugging Face Hub](https://huggingface.co/docs/hub/index)和 Github 类似，都是Hub(社区)。Hugging Face可以说的上是机器学习界的Github。Hugging Face为用户提供了以下主要功能：\n",
    "\n",
    "- [模型仓库（Model Repository）](https://huggingface.co/docs/hub/repositories-getting-started)：Git仓库可以让你管理代码版本、开源代码。而模型仓库可以让你管理模型版本、开源模型等。使用方式与Github类似。\n",
    "- [模型（Models）](https://huggingface.co/docs/hub/models)：Hugging Face为不同的机器学习任务提供了许多[预训练好的机器学习模型](https://huggingface.co/models)供大家使用，这些模型就存储在模型仓库中。\n",
    "- [数据集（Dataset）](https://huggingface.co/docs/hub/datasets)：Hugging Face上有许多公开数据集。\n",
    "\n",
    "hugging face在NLP领域最出名，其提供的模型大多都是基于Transformer的。为了易用性，Hugging Face还为用户提供了以下几个项目：\n",
    "\n",
    "  - **Transformers**([github](https://github.com/huggingface/transformers), [官方文档](https://huggingface.co/docs/transformers/index)): Transformers提供了上千个预训练好的模型可以用于不同的任务，例如文本领域、音频领域和CV领域。该项目是HuggingFace的核心，可以说学习HuggingFace就是在学习该项目如何使用。\n",
    "  - **Datasets**([github](https://github.com/huggingface/datasets), [官方文档](https://huggingface.co/docs/datasets/index)): 一个轻量级的数据集框架，主要有两个功能：①一行代码下载和预处理常用的公开数据集； ② 快速、易用的数据预处理类库。\n",
    "  - **Accelerate**([github](https://github.com/huggingface/accelerate), [官方文档](https://huggingface.co/docs/accelerate/index)): 帮助Pytorch用户很方便的实现 multi-GPU/TPU/fp16。"
   ],
   "metadata": {
    "collapsed": false,
    "pycharm": {
     "name": "#%% md\n"
    }
   }
  },
  {
   "cell_type": "markdown",
   "source": [],
   "metadata": {
    "collapsed": false,
    "pycharm": {
     "name": "#%% md\n"
    }
   }
  },
  {
   "cell_type": "markdown",
   "source": [
    "# Transforms简介\n",
    "\n",
    "Hugging Face Transformer是Hugging Face最核心的项目，你可以用它做以下事情：\n",
    "\n",
    "- 直接使用预训练模型进行推理\n",
    "- 提供了大量预训练模型可供使用\n",
    "-"
   ],
   "metadata": {
    "collapsed": false,
    "pycharm": {
     "name": "#%% md\n"
    }
   }
  },
  {
   "cell_type": "markdown",
   "source": [
    "# Transformers安装\n",
    "\n",
    "安装Transformers非常简单，直接安装即可。"
   ],
   "metadata": {
    "collapsed": false,
    "pycharm": {
     "name": "#%% md\n"
    }
   }
  },
  {
   "cell_type": "code",
   "execution_count": 1,
   "outputs": [],
   "source": [
    "!pip install transformers"
   ],
   "metadata": {
    "collapsed": false,
    "pycharm": {
     "name": "#%%\n"
    }
   }
  },
  {
   "cell_type": "markdown",
   "source": [
    "# 使用Transformers进行推理\n",
    "\n",
    "如果你的任务是一个比较常见的，大概率可以直接使用Transformer提供的[Pipeline](https://huggingface.co/docs/transformers/v4.21.0/en/main_classes/pipelines)API解决，其使用方式非常简单，可以说是直接用即可。"
   ],
   "metadata": {
    "collapsed": false,
    "pycharm": {
     "name": "#%% md\n"
    }
   }
  },
  {
   "cell_type": "code",
   "execution_count": 5,
   "outputs": [
    {
     "name": "stderr",
     "output_type": "stream",
     "text": [
      "No model was supplied, defaulted to t5-base and revision 686f1db (https://huggingface.co/t5-base).\n",
      "Using a pipeline without specifying a model name and revision in production is not recommended.\n"
     ]
    },
    {
     "name": "stdout",
     "output_type": "stream",
     "text": [
      "[{'translation_text': ' quel âge êtes-vous?'}]\n"
     ]
    }
   ],
   "source": [
    "from transformers import pipeline\n",
    "\n",
    "translator = pipeline(\"translation_en_to_fr\")\n",
    "print(translator(\"How old are you?\"))"
   ],
   "metadata": {
    "collapsed": false,
    "pycharm": {
     "name": "#%%\n"
    }
   }
  },
  {
   "cell_type": "markdown",
   "source": [
    "对于部分特定任务，官方并没有提供相应的模型，但你也可以到[官网搜索模型](https://huggingface.co/models)，然后显示指定即可。在加载模型时，你有可能会因为缺少一些库而报错，这个时候，只需要安装对应的库，然后重启即可。"
   ],
   "metadata": {
    "collapsed": false,
    "pycharm": {
     "name": "#%% md\n"
    }
   }
  },
  {
   "cell_type": "code",
   "execution_count": null,
   "outputs": [],
   "source": [
    "!pip install sentencepiece"
   ],
   "metadata": {
    "collapsed": false,
    "pycharm": {
     "name": "#%%\n"
    }
   }
  },
  {
   "cell_type": "code",
   "execution_count": 6,
   "outputs": [
    {
     "data": {
      "text/plain": "[{'translation_text': '我在学习深思熟虑'}]"
     },
     "execution_count": 6,
     "metadata": {},
     "output_type": "execute_result"
    }
   ],
   "source": [
    "translator = pipeline(\"translation_en_to_zh\", model='Helsinki-NLP/opus-mt-en-zh')\n",
    "translator(\"I'm learning deep learning.\")"
   ],
   "metadata": {
    "collapsed": false,
    "pycharm": {
     "name": "#%%\n"
    }
   }
  },
  {
   "cell_type": "markdown",
   "source": [
    "更多Pipeline请参考[官方文档](https://huggingface.co/docs/transformers/v4.21.0/en/main_classes/pipelines)：https://huggingface.co/docs/transformers/v4.21.0/en/main_classes/pipelines"
   ],
   "metadata": {
    "collapsed": false,
    "pycharm": {
     "name": "#%% md\n"
    }
   }
  },
  {
   "cell_type": "markdown",
   "source": [
    "# 查找Hugging Face模型"
   ],
   "metadata": {
    "collapsed": false,
    "pycharm": {
     "name": "#%% md\n"
    }
   }
  },
  {
   "cell_type": "markdown",
   "source": [
    "本节来介绍一下如何通过Hugging Face找到你需要的模型。\n",
    "\n",
    "首先，我们需要到来到官网的[模型模块](https://huggingface.co/models)。之后我们会看到如下界面：\n",
    "\n",
    "<img src=\"./images/hf_0.jpg\" width=\"800\">"
   ],
   "metadata": {
    "collapsed": false,
    "pycharm": {
     "name": "#%% md\n"
    }
   }
  },
  {
   "cell_type": "markdown",
   "source": [
    "其主要包含三部分：\n",
    "\n",
    "1. **Filter**: 用于筛选你想要的模型\n",
    "2. **模型列表**: 展示了可使用的模型。不带前缀的是官方提供的模型，例如gpt2，而带前缀的是第三方提供的模型。\n",
    "3. **搜索框**：你可以通过搜索框按名字搜索模型。"
   ],
   "metadata": {
    "collapsed": false,
    "pycharm": {
     "name": "#%% md\n"
    }
   }
  },
  {
   "cell_type": "code",
   "execution_count": null,
   "outputs": [],
   "source": [],
   "metadata": {
    "collapsed": false,
    "pycharm": {
     "name": "#%%\n"
    }
   }
  },
  {
   "cell_type": "code",
   "execution_count": null,
   "outputs": [],
   "source": [],
   "metadata": {
    "collapsed": false,
    "pycharm": {
     "name": "#%%\n"
    }
   }
  }
 ],
 "metadata": {
  "kernelspec": {
   "display_name": "Python 3",
   "language": "python",
   "name": "python3"
  },
  "language_info": {
   "codemirror_mode": {
    "name": "ipython",
    "version": 2
   },
   "file_extension": ".py",
   "mimetype": "text/x-python",
   "name": "python",
   "nbconvert_exporter": "python",
   "pygments_lexer": "ipython2",
   "version": "2.7.6"
  }
 },
 "nbformat": 4,
 "nbformat_minor": 0
}